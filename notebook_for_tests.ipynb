{
 "cells": [
  {
   "cell_type": "code",
   "execution_count": null,
   "metadata": {},
   "outputs": [],
   "source": [
    "import codecs\n",
    "import os\n",
    "import sys\n",
    "import threading\n",
    "import serial\n",
    "from serial.tools.list_ports import comports"
   ]
  },
  {
   "cell_type": "markdown",
   "metadata": {},
   "source": [
    "1. Gimbal control"
   ]
  },
  {
   "cell_type": "code",
   "execution_count": 10,
   "metadata": {},
   "outputs": [
    {
     "name": "stdout",
     "output_type": "stream",
     "text": [
      "Start receiving messages\n"
     ]
    }
   ],
   "source": [
    "from a2gmeasurements import GimbalRS2\n",
    "import time, timeit\n",
    "import numpy as np\n",
    "\n",
    "myGimbal = GimbalRS2()\n",
    "myGimbal.start_thread_gimbal()"
   ]
  },
  {
   "cell_type": "markdown",
   "metadata": {},
   "source": [
    "Finding required time for gimbal to answer a position request"
   ]
  },
  {
   "cell_type": "code",
   "execution_count": null,
   "metadata": {},
   "outputs": [],
   "source": [
    "from a2gmeasurements import GimbalRS2\n",
    "import time, timeit\n",
    "import numpy as np\n",
    "\n",
    "myGimbal = GimbalRS2()\n",
    "myGimbal.start_thread_gimbal()\n",
    "\n",
    "assumed_time_for_execute_time = 0.0015 # s\n",
    "gimbal_speed = (1800/3.47) # DEG/s\n",
    "condition_continue = True\n",
    "tol = gimbal_speed * assumed_time_for_execute_time\n",
    "cnt = 0\n",
    "myGimbal.request_current_position()\n",
    "time.sleep(0.0015)\n",
    "last_yaw = myGimbal.yaw \n",
    "last_roll = myGimbal.roll\n",
    "print('Outside: ',last_yaw, last_roll)\n",
    "myGimbal.setPosControl(yaw=1250, roll=0, pitch=0)\n",
    "time.sleep(1)\n",
    "while(condition_continue):\n",
    "    print('Execution time: ', timeit.default_timer() - start)\n",
    "    myGimbal.request_current_position()\n",
    "    time.sleep(0.0015)\n",
    "    print('Inside: ', myGimbal.yaw, myGimbal.roll)\n",
    "    \n",
    "    if np.abs(last_yaw - myGimbal.yaw) < tol and np.abs(last_roll - myGimbal.roll) < tol:\n",
    "        condition_continue = False\n",
    "    else:\n",
    "        last_yaw = myGimbal.yaw\n",
    "        last_roll = myGimbal.roll\n",
    "        start = timeit.default_timer()\n",
    "    cnt = cnt+1\n",
    "    print(cnt)\n",
    "    \n"
   ]
  },
  {
   "cell_type": "code",
   "execution_count": 20,
   "metadata": {},
   "outputs": [
    {
     "name": "stdout",
     "output_type": "stream",
     "text": [
      "Message sent on PCAN_USBBUS1\n",
      "\n",
      "Message sent on PCAN_USBBUS1\n",
      "\n",
      "Message sent on PCAN_USBBUS1\n",
      "\n",
      "Message sent on PCAN_USBBUS1\n",
      "\n"
     ]
    },
    {
     "data": {
      "text/plain": [
       "True"
      ]
     },
     "execution_count": 20,
     "metadata": {},
     "output_type": "execute_result"
    }
   ],
   "source": [
    "#myGimbal.request_current_position()\n",
    "myGimbal.setPosControl(yaw=0, roll=0, pitch=0)"
   ]
  },
  {
   "cell_type": "code",
   "execution_count": 21,
   "metadata": {},
   "outputs": [
    {
     "name": "stdout",
     "output_type": "stream",
     "text": [
      "Stopped receiving messages\n"
     ]
    }
   ],
   "source": [
    "myGimbal.stop_thread_gimbal()\n",
    "time.sleep(0.05)\n",
    "myGimbal.actual_bus.shutdown()"
   ]
  },
  {
   "cell_type": "markdown",
   "metadata": {},
   "source": [
    "2. Anritsu Control"
   ]
  },
  {
   "cell_type": "code",
   "execution_count": null,
   "metadata": {},
   "outputs": [],
   "source": [
    "from a2gmeasurements import myAnritsuSpectrumAnalyzer\n",
    "\n",
    "mySA = myAnritsuSpectrumAnalyzer()\n",
    "mySA.spectrum_analyzer_connect()\n",
    "rx_power =  mySA.retrieve_max_pow()\n",
    "print(rx_power)\n",
    "mySA.spectrum_analyzer_close()"
   ]
  },
  {
   "cell_type": "markdown",
   "metadata": {},
   "source": [
    "3. Septentrio Control"
   ]
  },
  {
   "cell_type": "code",
   "execution_count": null,
   "metadata": {},
   "outputs": [],
   "source": [
    "from a2gmeasurements import GpsSignaling\n",
    "mySeptentrioGPS = GpsSignaling(DBG_LVL_2=True)"
   ]
  },
  {
   "cell_type": "code",
   "execution_count": null,
   "metadata": {},
   "outputs": [],
   "source": [
    "mySeptentrioGPS.serial_connect()\n",
    "mySeptentrioGPS.serial_instance.reset_input_buffer()\n"
   ]
  },
  {
   "cell_type": "code",
   "execution_count": null,
   "metadata": {},
   "outputs": [],
   "source": [
    "#mySeptentrioGPS.sendCommandGps(cmd='sga, MultiAntenna') # by default this is the command\n",
    "mySeptentrioGPS.sendCommandGps(cmd='sgd, ETRS89')\n",
    "mySeptentrioGPS.sendCommandGps(cmd='spm, Rover, RTK')"
   ]
  },
  {
   "cell_type": "code",
   "execution_count": null,
   "metadata": {},
   "outputs": [],
   "source": [
    "mySeptentrioGPS.sendCommandGps(cmd='setNTRIPSettings, NTR1, Client, opencaster.nls.fi, 2101, fuave, v5E3oKu853A, VRS-FKP')"
   ]
  },
  {
   "cell_type": "code",
   "execution_count": null,
   "metadata": {},
   "outputs": [],
   "source": [
    "\n",
    "#mySeptentrioGPS.start_gps_data_retrieval(msg_type='NMEA', nmea_type='GGA', interval='sec1') # HDF instead of GGA for heading info\n",
    "#mySeptentrioGPS.start_gps_data_retrieval(msg_type='NMEA', nmea_type='HDT', interval='sec1') # HDF instead of GGA for heading info\n",
    "\n",
    "mySeptentrioGPS.start_gps_data_retrieval(msg_type='SBF', stream_number=1, interface='USB', interval='sec2')\n",
    "mySeptentrioGPS.start_thread_gps()\n"
   ]
  },
  {
   "cell_type": "code",
   "execution_count": null,
   "metadata": {},
   "outputs": [],
   "source": [
    "import struct\n",
    "struct.calcsize('<1c3H1I1H2B3d5f1d1f4B2H1I2B4H1B')"
   ]
  },
  {
   "cell_type": "code",
   "execution_count": null,
   "metadata": {},
   "outputs": [],
   "source": [
    "mySeptentrioGPS.stop_gps_data_retrieval(msg_type='NMEA')\n",
    "mySeptentrioGPS.stop_gps_data_retrieval(msg_type='SBF')\n",
    "mySeptentrioGPS.stop_thread_gps()"
   ]
  },
  {
   "cell_type": "code",
   "execution_count": null,
   "metadata": {},
   "outputs": [],
   "source": [
    "print(len(mySeptentrioGPS.SBF_frame_buffer), len(mySeptentrioGPS.NMEA_buffer))\n",
    "if len(mySeptentrioGPS.SBF_frame_buffer) > 0:\n",
    "    print(mySeptentrioGPS.SBF_frame_buffer[-1])\n",
    "if len(mySeptentrioGPS.NMEA_buffer) > 0:\n",
    "    print(mySeptentrioGPS.NMEA_buffer[-1])"
   ]
  },
  {
   "cell_type": "code",
   "execution_count": null,
   "metadata": {},
   "outputs": [],
   "source": [
    "mySeptentrioGPS.sendCommandGps('sdio, USB1,, -SBF-NMEA')"
   ]
  },
  {
   "cell_type": "code",
   "execution_count": null,
   "metadata": {},
   "outputs": [],
   "source": [
    "mySeptentrioGPS.serial_instance.close()"
   ]
  },
  {
   "cell_type": "code",
   "execution_count": null,
   "metadata": {},
   "outputs": [],
   "source": [
    "xsbf = mySeptentrioGPS.SBF_frame_buffer[-1]['X']\n",
    "ybf = mySeptentrioGPS.SBF_frame_buffer[-1]['Y']\n",
    "zbf = mySeptentrioGPS.SBF_frame_buffer[-1]['Z']"
   ]
  },
  {
   "cell_type": "code",
   "execution_count": null,
   "metadata": {},
   "outputs": [],
   "source": [
    "lat=mySeptentrioGPS.NMEA_buffer[-1]['Latitude']\n",
    "lon=mySeptentrioGPS.NMEA_buffer[-1]['Longitude']"
   ]
  },
  {
   "cell_type": "code",
   "execution_count": null,
   "metadata": {},
   "outputs": [],
   "source": [
    "print(lat, lon)"
   ]
  },
  {
   "cell_type": "code",
   "execution_count": null,
   "metadata": {},
   "outputs": [],
   "source": [
    "from a2gmeasurements import HelperA2GMeasurements\n",
    "\n",
    "\n",
    "myHelper = HelperA2GMeasurements(ID=11, SERVER_ADDRESS='')\n",
    "\n",
    "\n",
    "y, x = myHelper.convert_DDMMS_to_planar(input_lon=lon, \n",
    "                                                input_lat=lat, epsg_out=4936)\n",
    "print(x, y)"
   ]
  },
  {
   "cell_type": "markdown",
   "metadata": {},
   "source": [
    "Precision of distance when using planar coordinates ('precision' is given by google estimate of distance)"
   ]
  },
  {
   "cell_type": "code",
   "execution_count": null,
   "metadata": {},
   "outputs": [],
   "source": [
    "import pyproj as proj\n",
    "from a2gmeasurements import HelperA2GMeasurements\n",
    "import numpy as np\n",
    "\n",
    "pt_hammentie_50 = [60.186977663598164, 24.961182204780805]\n",
    "pt_hakaniemi_mkt = [60.17907971164074, 24.951228689442726]\n",
    "\n",
    "h = HelperA2GMeasurements()\n",
    "\n",
    "lat_pln_hamm, lon_pln_hamm = h.convert_DDMMS_to_planar(24.961182204780805, 60.186977663598164)\n",
    "lat_pln_hak, lon_pln_hak = h.convert_DDMMS_to_planar(24.951228689442726, 60.17907971164074)\n",
    "\n",
    "# Compare this distance with Google MAPS: CHECKED ---> within 2m error\n",
    "d_hamm_hak = np.linalg.norm(np.array([lon_pln_hamm, lat_pln_hamm]) - np.array([lon_pln_hak, lat_pln_hak]))"
   ]
  },
  {
   "cell_type": "markdown",
   "metadata": {},
   "source": [
    "Example of a real GPS NMEA output"
   ]
  },
  {
   "cell_type": "code",
   "execution_count": null,
   "metadata": {},
   "outputs": [],
   "source": [
    "real_gps_data = {'Timestamp': '110815.00', \n",
    "                 'Latitude': '6011.1011606', \n",
    "                 'Latitude Direction': 'N', \n",
    "                 'Longitude': '02448.9144475', \n",
    "                 'Longitude Direction': 'E', \n",
    "                 'GPS Quality Indicator': '2', \n",
    "                 'Number of Satellites in use': '28', \n",
    "                 'Horizontal Dilution of Precision': '0.6', \n",
    "                 'Antenna Alt above sea level (mean)': '0.9230', \n",
    "                 'Units of altitude (meters)': 'M', \n",
    "                 'Geoidal Separation': '19.5883', \n",
    "                 'Units of Geoidal Separation (meters)': 'M', \n",
    "                 'Age of Differential GPS Data (secs)': '1.8', \n",
    "                 'Differential Reference Station ID': '0123'}\n",
    "\n",
    "real_gps_sbf_data = {'TOW': 476864000, 'WNc': 2237, 'MODE': 1, 'ERR': 0, \n",
    "                     'X': 2885666.3154522795, 'Y': 1334484.5807205061, 'Z': 5510775.657593954, \n",
    "                     'Undulation': 19.586938858032227, \n",
    "                     'Vx': -0.0005603009485639632, 'Vy': 0.013242623768746853, 'Vz': 0.0013509213458746672, \n",
    "                     'COG': -20000000000.0, 'RxClkBias': 0.1324483297937943, 'RxClkDrift': 0.019449610263109207, \n",
    "                     'TimeSystem': 0, 'Datum': 0, 'NrSV': 12, 'WACorrInfo': 0, 'ReferenceID': 65535, \n",
    "                     'MeanCorrAge': 65535, 'SignalInfo': 807534857, 'AlertFlag': 1, 'NrBases': 0, \n",
    "                     'PPPInfo': 0, 'Latency': 64, 'HAccuracy': 1500, 'VAccuracy': 1471}"
   ]
  },
  {
   "cell_type": "markdown",
   "metadata": {},
   "source": [
    "Server connection"
   ]
  },
  {
   "cell_type": "code",
   "execution_count": null,
   "metadata": {},
   "outputs": [],
   "source": [
    "from socket import socket\n",
    "import time\n",
    "from a2gmeasurements import HelperA2GMeasurements\n",
    "\n",
    "host = 'localhost'\n",
    "myHelper = HelperA2GMeasurements('GROUND', host)\n",
    "myHelper.HelperStartA2GCom()\n"
   ]
  },
  {
   "cell_type": "code",
   "execution_count": null,
   "metadata": {},
   "outputs": [],
   "source": [
    "myHelper.HelperA2GStopCom()\n",
    "print(myHelper.SOCKET_BUFFER, len(myHelper.SOCKET_BUFFER))"
   ]
  },
  {
   "cell_type": "markdown",
   "metadata": {},
   "source": [
    "5. Signal generator"
   ]
  },
  {
   "cell_type": "code",
   "execution_count": null,
   "metadata": {},
   "outputs": [],
   "source": [
    "import pyvisa\n",
    "\n",
    "rm = pyvisa.ResourceManager()\n",
    "print(rm.list_resources())\n",
    "\n",
    "inst = rm.open_resource('GPIB0::19::INSTR')\n",
    "print(inst.query(\"*IDN?\"))\n",
    "\n",
    "inst.write('F0 28.95 GH\\n')\n",
    "inst.write('L0 20 DM\\n')\n",
    "\n",
    "# Turn On RF output\n",
    "inst.write('RF1\\n')\n",
    "# Turn Off RF output\n",
    "inst.write('RF0\\n')"
   ]
  },
  {
   "cell_type": "code",
   "execution_count": null,
   "metadata": {},
   "outputs": [],
   "source": [
    "from a2gmeasurements import myAnritsuSpectrumAnalyzer\n",
    "\n",
    "dir = 'C://Users//jvjulian//OneDrive - Teknologian Tutkimuskeskus VTT//Documents//Measurement 1//20221012133438//'\n",
    "file = 'CONT20221012133504968.rsm'\n",
    "\n",
    "anritsu = myAnritsuSpectrumAnalyzer()\n",
    "anritsu.parse_xml_file(dir + file)\n",
    "anritsu.XML_file"
   ]
  },
  {
   "cell_type": "code",
   "execution_count": null,
   "metadata": {},
   "outputs": [],
   "source": [
    "from PyQt6.QtWidgets import QApplication, QLabel, QWidget\n",
    "import sys\n",
    "\n",
    "app = QApplication([])\n",
    "\n",
    "window = QWidget()\n",
    "window.setWindowTitle(\"PyQt App\")\n",
    "window.setGeometry(100, 600, 280, 280) # 1st: x coordinate, 2nd: y coordinate, 3rd: width, 4th: height\n",
    "helloMsg = QLabel(\"<h1>Hello World</h1>\", parent=window)\n",
    "helloMsg.move(60, 15)\n",
    "window.show()\n",
    "\n",
    "sys.exit(app.exec())\n"
   ]
  },
  {
   "cell_type": "code",
   "execution_count": null,
   "metadata": {},
   "outputs": [],
   "source": [
    "import datetime\n",
    "import time\n",
    "import sys\n",
    "\n",
    "today_date = datetime.date.today()\n",
    "today_date = [int(i) for i in today_date.strftime(\"%Y-%m-%d\").split('-')]\n",
    "\n",
    "ex = '110815.00'\n",
    "\n",
    "print(today_date)\n",
    "\n",
    "complete_date = datetime.datetime(year=today_date[0], \n",
    "                                  month=today_date[1], \n",
    "                                  day=today_date[2], \n",
    "                                  hour=int(ex[0:2]), \n",
    "                                  minute=int(ex[2:4]), \n",
    "                                  second=int(ex[4:6]))\n",
    "\n",
    "a = time.mktime(complete_date.timetuple())\n",
    "print(a)\n",
    "\n",
    "print(time.time())"
   ]
  },
  {
   "cell_type": "markdown",
   "metadata": {},
   "source": [
    "Animation to prove gimbal_follows_drone function does its job"
   ]
  },
  {
   "cell_type": "code",
   "execution_count": 1,
   "metadata": {},
   "outputs": [
    {
     "name": "stderr",
     "output_type": "stream",
     "text": [
      "c:\\Users\\jvjulian\\OneDrive - Teknologian Tutkimuskeskus VTT\\Documents\\Aerial\\Repos\\a2gMeasurements\\a2gmeasurements.py:1671: SyntaxWarning: 'ellipsis' object is not callable; perhaps you missed a comma?\n",
      "  while ((yaw_to_set == self.ERROR_CODE_ground_gimbal_follows_drone_SMALL_BUFF_SZ) or ...\n",
      "c:\\Users\\jvjulian\\OneDrive - Teknologian Tutkimuskeskus VTT\\Documents\\Aerial\\Repos\\a2gMeasurements\\a2gmeasurements.py:1671: SyntaxWarning: 'ellipsis' object is not callable; perhaps you missed a comma?\n",
      "  while ((yaw_to_set == self.ERROR_CODE_ground_gimbal_follows_drone_SMALL_BUFF_SZ) or ...\n"
     ]
    },
    {
     "data": {
      "image/png": "[encoded data removed]",
      "text/plain": [
       "<Figure size 500x500 with 1 Axes>"
      ]
     },
     "metadata": {},
     "output_type": "display_data"
    }
   ],
   "source": [
    "import numpy as np\n",
    "from matplotlib import pyplot as plt\n",
    "from matplotlib import animation\n",
    "from matplotlib.animation import PillowWriter\n",
    "from a2gUtils import AngleAnnotation\n",
    "from a2gmeasurements import HelperA2GMeasurements\n",
    "\n",
    "\n",
    "myHelper = HelperA2GMeasurements(ID='GROUND', SERVER_ADDRESS='')\n",
    "\n",
    "xlim = (0, 10)\n",
    "ylim = (0, 10)\n",
    "\n",
    "lon_ground_planar = (xlim[0] + xlim[1])/2\n",
    "lat_ground_planar = 3\n",
    "height_ground = 1\n",
    "\n",
    "fig = plt.figure(figsize=((5, 5)))\n",
    "ax = fig.add_subplot(111, aspect='equal', xlim=xlim, ylim=ylim)\n",
    "\n",
    "ax.grid()\n",
    "\n",
    "\n",
    "line1, = ax.plot([],[], lw=2, color='blue')\n",
    "line2, = ax.plot([],[], lw=2, color='red')\n",
    "line3, = ax.plot([],[], lw=1, color='gray', linestyle='--')\n",
    "heading_angle_text = ax.text(0.02, 0.95, '', transform=ax.transAxes, color='red')\n",
    "yaw2set_text = ax.text(0.02, 0.65, '', transform=ax.transAxes, color='green')\n",
    "angle_drone_wrt_horizontal_text = ax.text(0.02, 0.35, '', transform=ax.transAxes, color='blue')\n",
    "\n",
    "def animate(i):\n",
    "    lon_drone_planar = np.random.rand()*10\n",
    "    lat_drone_planar = np.random.rand()*10\n",
    "    \n",
    "    heading = np.random.rand()*np.pi*2\n",
    "      \n",
    "    yaw, _, alpha = myHelper.ground_gimbal_follows_drone(heading=heading, \n",
    "                                                   lat_ground=lat_ground_planar, \n",
    "                                                   lon_ground=lon_ground_planar, \n",
    "                                                   height_ground=1, \n",
    "                                                   lat_drone=lat_drone_planar, \n",
    "                                                   lon_drone=lon_drone_planar, \n",
    "                                                   height_drone=10, \n",
    "                                                   coord_type='planar')\n",
    "    \n",
    "    line1.set_data([lon_drone_planar, lon_ground_planar], \n",
    "                  [lat_drone_planar, lat_ground_planar])\n",
    "    \n",
    "    if heading > np.pi:\n",
    "        heading_wrt_long_axs = np.pi/2 - (heading - np.pi*2)\n",
    "        if heading_wrt_long_axs > np.pi:\n",
    "            heading_wrt_long_axs = heading_wrt_long_axs - np.pi*2\n",
    "        elif heading_wrt_long_axs < -np.pi:\n",
    "            heading_wrt_long_axs = heading_wrt_long_axs + np.pi*2\n",
    "    else:\n",
    "        heading_wrt_long_axs = np.pi/2 - heading\n",
    "        if heading_wrt_long_axs > np.pi:\n",
    "            heading_wrt_long_axs = heading_wrt_long_axs - np.pi*2\n",
    "        elif heading_wrt_long_axs < -np.pi:\n",
    "            heading_wrt_long_axs = heading_wrt_long_axs + np.pi*2\n",
    "    \n",
    "    x_heading = lon_ground_planar + 2*np.cos(heading_wrt_long_axs)\n",
    "    y_heading = lat_ground_planar + 2*np.sin(heading_wrt_long_axs)\n",
    "    \n",
    "    line2.set_data([x_heading, lon_ground_planar], \n",
    "                   [y_heading, lat_ground_planar])\n",
    "        \n",
    "    heading_angle_text.set_text('Heading: %.1f' % np.rad2deg(heading))\n",
    "    yaw2set_text.set_text('Yaw (' +  r\"$\\theta$\"  + '): '  +  f\"{float(yaw)/10}\")\n",
    "    angle_drone_wrt_horizontal_text.set_text('Drone angle (' + r\"$\\alpha$\"  + '): ' + f\"{int(np.rad2deg(alpha))}\")\n",
    "    \n",
    "    if yaw > 0:\n",
    "        am1 = AngleAnnotation((lon_ground_planar, lat_ground_planar), \n",
    "                          (lon_drone_planar, lat_drone_planar), (x_heading, y_heading),  \n",
    "                          ax=ax, size=125, text=r\"$\\theta$\", color='green', text_kw=dict(color=\"green\"))\n",
    "    else:\n",
    "        am1 = AngleAnnotation((lon_ground_planar, lat_ground_planar), \n",
    "                          (x_heading, y_heading), (lon_drone_planar, lat_drone_planar), \n",
    "                          ax=ax, size=125, text=r\"$\\theta$\", color='green', text_kw=dict(color=\"green\"))\n",
    "        \n",
    "    if alpha > 0:        \n",
    "        am2 = AngleAnnotation((lon_ground_planar, lat_ground_planar), \n",
    "                          (xlim[1], lat_ground_planar), (lon_drone_planar, lat_drone_planar),\n",
    "                          ax=ax, size=65, text=r\"$\\alpha$\", color='blue', text_kw=dict(color=\"blue\"))\n",
    "    else:\n",
    "        am2 = AngleAnnotation((lon_ground_planar, lat_ground_planar), \n",
    "                          (lon_drone_planar, lat_drone_planar), (xlim[1], lat_ground_planar),\n",
    "                          ax=ax, size=65, text=r\"$\\alpha$\", color='blue', text_kw=dict(color=\"blue\"))\n",
    "    \n",
    "    line3.set_data([xlim[1], lon_ground_planar], \n",
    "                   [lat_ground_planar, lat_ground_planar])\n",
    "    \n",
    "    return line1, line2, heading_angle_text, yaw2set_text\n",
    "\n",
    "ani = animation.FuncAnimation(fig, animate, frames=10, interval=5, repeat=False)\n",
    "\n",
    "ani.save('basic_animation_2.gif', dpi=300, writer=PillowWriter(fps=0.2))\n",
    "#plt.show()"
   ]
  },
  {
   "cell_type": "code",
   "execution_count": 11,
   "metadata": {},
   "outputs": [
    {
     "name": "stdout",
     "output_type": "stream",
     "text": [
      "(60.184648143207625, 24.818315331415892, 47.33474831096828)\n"
     ]
    }
   ],
   "source": [
    "from pyproj import CRS, Transformer\n",
    "\n",
    "a = {'X': 2885666.3154522795, 'Y': 1334484.5807205061, 'Z': 5510775.657593954}\n",
    "\n",
    "geodet_crs = CRS.from_epsg(4979) # Geodetic (lat,lon,h) system\n",
    "geocent_crs = CRS.from_epsg(4978) # Geocentric (X,Y,Z) system\n",
    "\n",
    "# pyproj transformer object from geocentric to geodetic\n",
    "geocent_to_geodet = Transformer.from_crs(geocent_crs, geodet_crs)\n",
    "\n",
    "\n",
    "lat_lon = geocent_to_geodet.transform(a['X'],a['Y'],a['Z'])\n",
    "\n",
    "print(lat_lon)"
   ]
  },
  {
   "cell_type": "code",
   "execution_count": null,
   "metadata": {},
   "outputs": [],
   "source": [
    "import datetime\n",
    "gps_data = {}\n",
    "gps_data['Timestamp'] = ''\n",
    "for i in datetime.datetime.utcnow().timetuple()[3:6]:\n",
    "    tmp = str(i)\n",
    "    if len(tmp) == 1:\n",
    "        tmp = '0' + tmp\n",
    "    gps_data['Timestamp'] = gps_data['Timestamp'] + tmp\n",
    "gps_data['Timestamp'] = float(int(gps_data['Timestamp']))\n",
    "print(gps_data)"
   ]
  },
  {
   "cell_type": "code",
   "execution_count": 17,
   "metadata": {},
   "outputs": [
    {
     "data": {
      "text/plain": [
       "1245.5"
      ]
     },
     "execution_count": 17,
     "metadata": {},
     "output_type": "execute_result"
    }
   ],
   "source": [
    "import json\n",
    "a = {'CMD_SOURCE': 'SETGIMBAL', 'TYPE': 'CMD', 'DATA': {'YAW': 1245.5, 'PITCH': -614}}\n",
    "a = json.dumps(a)\n",
    "\n",
    "\n",
    "b = json.loads(a)\n",
    "b['DATA']['YAW'] \n",
    "     "
   ]
  },
  {
   "cell_type": "code",
   "execution_count": 9,
   "metadata": {},
   "outputs": [
    {
     "name": "stdout",
     "output_type": "stream",
     "text": [
      "46.4\n"
     ]
    }
   ],
   "source": [
    "def fcn_caller(arg_fcnname):\n",
    "    \n",
    "    def fcn_3(a):\n",
    "        return a*2\n",
    "    \n",
    "    b = fcn_3(arg_fcnname)\n",
    "    print(b)    \n",
    "\n",
    "fcn_caller(23.2)   "
   ]
  },
  {
   "cell_type": "code",
   "execution_count": 1,
   "metadata": {},
   "outputs": [
    {
     "name": "stdout",
     "output_type": "stream",
     "text": [
      "yes\n"
     ]
    }
   ],
   "source": [
    "a = 1\n",
    "b = 2\n",
    "\n",
    "if a != b:\n",
    "    print('yes')"
   ]
  }
 ],
 "metadata": {
  "kernelspec": {
   "display_name": "gimbalRS2",
   "language": "python",
   "name": "python3"
  },
  "language_info": {
   "codemirror_mode": {
    "name": "ipython",
    "version": 3
   },
   "file_extension": ".py",
   "mimetype": "text/x-python",
   "name": "python",
   "nbconvert_exporter": "python",
   "pygments_lexer": "ipython3",
   "version": "3.10.4"
  },
  "orig_nbformat": 4,
  "vscode": {
   "interpreter": {
    "hash": "f7329af74abc2ff661e31e7b365be03b5ff7d7da9999541aafc247cafecfe793"
   }
  }
 },
 "nbformat": 4,
 "nbformat_minor": 2
}

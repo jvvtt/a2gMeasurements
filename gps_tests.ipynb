{
 "cells": [
  {
   "cell_type": "code",
   "execution_count": null,
   "metadata": {},
   "outputs": [],
   "source": [
    "import codecs\n",
    "import os\n",
    "import sys\n",
    "import threading\n",
    "import serial\n",
    "from serial.tools.list_ports import comports"
   ]
  },
  {
   "cell_type": "markdown",
   "metadata": {},
   "source": [
    "1. Gimbal control"
   ]
  },
  {
   "cell_type": "code",
   "execution_count": null,
   "metadata": {},
   "outputs": [],
   "source": [
    "from a2gmeasurements import GimbalRS2\n",
    "import time, timeit\n",
    "import numpy as np\n",
    "\n",
    "myGimbal = GimbalRS2()\n",
    "myGimbal.start_thread_gimbal()"
   ]
  },
  {
   "cell_type": "code",
   "execution_count": null,
   "metadata": {},
   "outputs": [],
   "source": [
    "from a2gmeasurements import GimbalRS2\n",
    "import time, timeit\n",
    "import numpy as np\n",
    "\n",
    "myGimbal = GimbalRS2()\n",
    "myGimbal.start_thread_gimbal()\n",
    "\n",
    "assumed_time_for_execute_time = 0.0015 # s\n",
    "gimbal_speed = (1800/3.47) # DEG/s\n",
    "condition_continue = True\n",
    "tol = gimbal_speed * assumed_time_for_execute_time\n",
    "cnt = 0\n",
    "myGimbal.request_current_position()\n",
    "time.sleep(0.0015)\n",
    "last_yaw = myGimbal.yaw \n",
    "last_roll = myGimbal.roll\n",
    "print('Outside: ',last_yaw, last_roll)\n",
    "myGimbal.setPosControl(yaw=1250, roll=0, pitch=0)\n",
    "time.sleep(1)\n",
    "while(condition_continue):\n",
    "    print('Execution time: ', timeit.default_timer() - start)\n",
    "    myGimbal.request_current_position()\n",
    "    time.sleep(0.0015)\n",
    "    print('Inside: ', myGimbal.yaw, myGimbal.roll)\n",
    "    \n",
    "    if np.abs(last_yaw - myGimbal.yaw) < tol and np.abs(last_roll - myGimbal.roll) < tol:\n",
    "        condition_continue = False\n",
    "    else:\n",
    "        last_yaw = myGimbal.yaw\n",
    "        last_roll = myGimbal.roll\n",
    "        start = timeit.default_timer()\n",
    "    cnt = cnt+1\n",
    "    print(cnt)\n",
    "    \n"
   ]
  },
  {
   "cell_type": "code",
   "execution_count": null,
   "metadata": {},
   "outputs": [],
   "source": [
    "#myGimbal.request_current_position()\n",
    "myGimbal.setPosControl(yaw=0, roll=0, pitch=0)"
   ]
  },
  {
   "cell_type": "code",
   "execution_count": null,
   "metadata": {},
   "outputs": [],
   "source": [
    "myGimbal.stop_thread_gimbal()\n",
    "time.sleep(0.05)\n",
    "myGimbal.actual_bus.shutdown()"
   ]
  },
  {
   "cell_type": "markdown",
   "metadata": {},
   "source": [
    "2. Anritsu Control"
   ]
  },
  {
   "cell_type": "code",
   "execution_count": null,
   "metadata": {},
   "outputs": [],
   "source": [
    "from a2gmeasurements import myAnritsuSpectrumAnalyzer\n",
    "\n",
    "mySA = myAnritsuSpectrumAnalyzer()\n",
    "mySA.spectrum_analyzer_connect()\n",
    "rx_power =  mySA.retrieve_max_pow()\n",
    "print(rx_power)\n",
    "mySA.spectrum_analyzer_close()"
   ]
  },
  {
   "cell_type": "markdown",
   "metadata": {},
   "source": [
    "3. Septentrio Control"
   ]
  },
  {
   "cell_type": "code",
   "execution_count": null,
   "metadata": {},
   "outputs": [],
   "source": [
    "from a2gmeasurements import GpsSignaling\n",
    "mySeptentrioGPS = GpsSignaling(DBG_LVL_2=True, DBG_LVL_0=True)"
   ]
  },
  {
   "cell_type": "code",
   "execution_count": null,
   "metadata": {},
   "outputs": [],
   "source": [
    "mySeptentrioGPS.serial_connect()\n",
    "mySeptentrioGPS.start_thread_gps()\n",
    "mySeptentrioGPS.start_gps_data_retrieval(msg_type='NMEA', nmea_type='GGA', interval='sec1') # HDF instead of GGA for heading info\n",
    "#mySeptentrioGPS.start_gps_data_retrieval(msg_type='SBF')"
   ]
  },
  {
   "cell_type": "code",
   "execution_count": null,
   "metadata": {},
   "outputs": [],
   "source": [
    "mySeptentrioGPS.stop_gps_data_retrieval(msg_type='NMEA')\n",
    "mySeptentrioGPS.stop_thread_gps()"
   ]
  },
  {
   "cell_type": "code",
   "execution_count": null,
   "metadata": {},
   "outputs": [],
   "source": [
    "print(len(mySeptentrioGPS.SBF_frame_buffer), len(mySeptentrioGPS.NMEA_buffer))\n",
    "if len(mySeptentrioGPS.SBF_frame_buffer) > 0:\n",
    "    print(mySeptentrioGPS.SBF_frame_buffer[-1])\n",
    "if len(mySeptentrioGPS.NMEA_buffer) > 0:\n",
    "    print(mySeptentrioGPS.NMEA_buffer[-1])"
   ]
  },
  {
   "cell_type": "markdown",
   "metadata": {},
   "source": [
    "Precision of distance when using planar coordinates ('precision' is given by google estimate of distance)"
   ]
  },
  {
   "cell_type": "code",
   "execution_count": null,
   "metadata": {},
   "outputs": [],
   "source": [
    "import pyproj as proj\n",
    "from a2gmeasurements import HelperA2GMeasurements\n",
    "import numpy as np\n",
    "\n",
    "pt_hammentie_50 = [60.186977663598164, 24.961182204780805]\n",
    "pt_hakaniemi_mkt = [60.17907971164074, 24.951228689442726]\n",
    "\n",
    "h = HelperA2GMeasurements()\n",
    "\n",
    "lat_pln_hamm, lon_pln_hamm = h.convert_DDMMS_to_planar(24.961182204780805, 60.186977663598164)\n",
    "lat_pln_hak, lon_pln_hak = h.convert_DDMMS_to_planar(24.951228689442726, 60.17907971164074)\n",
    "\n",
    "# Compare this distance with Google MAPS: CHECKED ---> within 2m error\n",
    "d_hamm_hak = np.linalg.norm(np.array([lon_pln_hamm, lat_pln_hamm]) - np.array([lon_pln_hak, lat_pln_hak]))"
   ]
  },
  {
   "cell_type": "markdown",
   "metadata": {},
   "source": [
    "Example of a real GPS NMEA output"
   ]
  },
  {
   "cell_type": "code",
   "execution_count": 20,
   "metadata": {},
   "outputs": [],
   "source": [
    "real_gps_data = {'Timestamp': '110815.00', \n",
    "                 'Latitude': '6011.1011606', \n",
    "                 'Latitude Direction': 'N', \n",
    "                 'Longitude': '02448.9144475', \n",
    "                 'Longitude Direction': 'E', \n",
    "                 'GPS Quality Indicator': '2', \n",
    "                 'Number of Satellites in use': '28', \n",
    "                 'Horizontal Dilution of Precision': '0.6', \n",
    "                 'Antenna Alt above sea level (mean)': '0.9230', \n",
    "                 'Units of altitude (meters)': 'M', \n",
    "                 'Geoidal Separation': '19.5883', \n",
    "                 'Units of Geoidal Separation (meters)': 'M', \n",
    "                 'Age of Differential GPS Data (secs)': '1.8', \n",
    "                 'Differential Reference Station ID': '0123'}"
   ]
  },
  {
   "cell_type": "markdown",
   "metadata": {},
   "source": [
    "Server connection"
   ]
  },
  {
   "cell_type": "code",
   "execution_count": null,
   "metadata": {},
   "outputs": [],
   "source": [
    "from socket import socket\n",
    "import time\n",
    "from a2gmeasurements import HelperA2GMeasurements\n",
    "\n",
    "host = 'localhost'\n",
    "myHelper = HelperA2GMeasurements('GROUND', host)\n",
    "myHelper.HelperStartA2GCom()\n"
   ]
  },
  {
   "cell_type": "code",
   "execution_count": null,
   "metadata": {},
   "outputs": [],
   "source": [
    "myHelper.HelperA2GStopCom()\n",
    "print(myHelper.SOCKET_BUFFER, len(myHelper.SOCKET_BUFFER))"
   ]
  },
  {
   "cell_type": "markdown",
   "metadata": {},
   "source": [
    "5. Signal generator"
   ]
  },
  {
   "cell_type": "code",
   "execution_count": null,
   "metadata": {},
   "outputs": [],
   "source": [
    "import pyvisa\n",
    "\n",
    "rm = pyvisa.ResourceManager()\n",
    "print(rm.list_resources())\n"
   ]
  },
  {
   "cell_type": "code",
   "execution_count": null,
   "metadata": {},
   "outputs": [],
   "source": [
    "inst = rm.open_resource('GPIB0::19::INSTR')\n",
    "print(inst.query(\"*IDN?\"))\n"
   ]
  },
  {
   "cell_type": "code",
   "execution_count": null,
   "metadata": {},
   "outputs": [],
   "source": [
    "inst.write('F0 28.95 GH\\n')\n",
    "inst.write('L0 20 DM\\n')"
   ]
  },
  {
   "cell_type": "code",
   "execution_count": null,
   "metadata": {},
   "outputs": [],
   "source": [
    "# Turn On RF output\n",
    "inst.write('RF1\\n')"
   ]
  },
  {
   "cell_type": "code",
   "execution_count": null,
   "metadata": {},
   "outputs": [],
   "source": [
    "# Turn Off RF output\n",
    "inst.write('RF0\\n')"
   ]
  },
  {
   "cell_type": "markdown",
   "metadata": {},
   "source": [
    "Example of code for Measurements"
   ]
  },
  {
   "cell_type": "code",
   "execution_count": null,
   "metadata": {},
   "outputs": [],
   "source": [
    "import json\n",
    "import numpy as np\n",
    "from socket import socket\n",
    "import time\n",
    "from a2gmeasurements import HelperA2GMeasurements, GimbalRS2, GpsSignaling\n",
    "\n",
    "host = ''\n",
    "myHelper = HelperA2GMeasurements('GROUND', host, DBG_LVL_0=False, \n",
    "                                 DBG_LVL_1=True, \n",
    "                                 IsGPS=True, \n",
    "                                 IsGimbal=False, \n",
    "                                 IsSignalGenerator=False,\n",
    "                                 F0=28.95,\n",
    "                                 L0=-30)"
   ]
  },
  {
   "cell_type": "code",
   "execution_count": null,
   "metadata": {},
   "outputs": [],
   "source": [
    "myHelper.myGimbal.request_current_position()\n",
    "time.sleep(0.002)\n",
    "\n",
    "# Gimbal assumed to be not moving\n",
    "yaw_now = myHelper.myGimbal.yaw\n",
    "roll_now = myHelper.myGimbal.roll\n",
    "print('Compare yaw printed value previously, with yaw_now var: ', yaw_now, '\\n')\n",
    "print('Compare roll printed value previously, with roll_now var: ', roll_now, '\\n')\n",
    "\n",
    "while(myHelper.mySeptentrioGPS.NMEA_buffer == []):\n",
    "    1\n",
    "    \n",
    "lat_ground = float(myHelper.mySeptentrioGPS.NMEA_buffer[-1]['Latitude'])/10\n",
    "lon_ground = float(myHelper.mySeptentrioGPS.NMEA_buffer[-1]['Longitude'])/10\n",
    "height_ground = float(myHelper.mySeptentrioGPS.NMEA_buffer[-1]['Antenna Alt above sea level (mean)'])\n",
    "print('This is are the coordinates for the GROUND station\\n')\n",
    "print(f'LAT:{lat_ground}, LON: {lon_ground}, HEIGHT: {height_ground}')\n",
    "\n",
    "# Point GROUND gimbal towards DRONE\n",
    "lat_drone = 60.1857\n",
    "lon_drone = 24.81465\n",
    "height_drone = 30\n",
    "\n",
    "yaw, roll = myHelper.mobile_gimbal_follows_drone(yaw_now, lat_ground, lon_ground, height_ground, \n",
    "                                                lat_drone, lon_drone, height_drone)\n",
    "\n",
    "myHelper.myGimbal.setPosControl(yaw, roll, 0)"
   ]
  },
  {
   "cell_type": "markdown",
   "metadata": {},
   "source": [
    "Move the gimbal"
   ]
  },
  {
   "cell_type": "code",
   "execution_count": null,
   "metadata": {},
   "outputs": [],
   "source": [
    "# 9. Request Gimbal orientation\n",
    "meas_number=1\n",
    "myHelper.myGimbal.request_current_position()\n",
    "time.sleep(0.0015)\n",
    "\n",
    "# Gimbal assumed to be not moving\n",
    "yaw_now = myHelper.myGimbal.yaw\n",
    "roll_now = myHelper.myGimbal.roll\n",
    "print('Compare yaw printed value previously, with yaw_now var: ', yaw_now, '\\n')\n",
    "print('Compare yaw printed value previously, with roll_now var: ', roll_now, '\\n')\n",
    "\n",
    "# 10. Move GROUND gimbal in 30 deg steps\n",
    "N_ang_steps = 360/120\n",
    "reset_yaw_gimbal = myHelper.send_N_azimuth_angles(int(yaw_now*10), int(roll_now*10), int(N_ang_steps), meas_number=meas_number)\n",
    "\n",
    "# 11. Make the gimbal move in the opposite direction to unfold cables\n",
    "for i in reset_yaw_gimbal:\n",
    "    myHelper.myGimbal.setPosControl(i, int(roll_now*10), 0)\n",
    "    time.sleep(3.5)\n",
    "\n",
    "#input('Stop test?')\n",
    "myHelper.HelperA2GStopCom()"
   ]
  },
  {
   "cell_type": "code",
   "execution_count": null,
   "metadata": {},
   "outputs": [],
   "source": [
    "lat_gimbal = float(myHelper.mySeptentrioGPS.NMEA_buffer[-1]['Latitude'][0:2]) + float(myHelper.mySeptentrioGPS.NMEA_buffer[-1]['Latitude'][2:])/60\n",
    "lon_gimbal = float(myHelper.mySeptentrioGPS.NMEA_buffer[-1]['Longitude'][0:3]) + float(myHelper.mySeptentrioGPS.NMEA_buffer[-1]['Longitude'][3:])/60\n",
    "height_gimbal = float(myHelper.mySeptentrioGPS.NMEA_buffer[-1]['Antenna Alt above sea level (mean)'])\n",
    "\n",
    "print('This is are the coordinates for the GROUND station\\n')\n",
    "print(f'LAT:{lat_gimbal}, LON: {lon_gimbal}, HEIGHT: {height_gimbal}')\n",
    "\n",
    "# Point GROUND gimbal towards DRONE\n",
    "lat_drone = 60.15893\n",
    "lon_drone = 24.91091\n",
    "height_drone = 40\n",
    "\n",
    "lat_drone_planar, lon_drone_planar = myHelper.convert_DDMMS_to_planar(lon_drone, lat_drone, offset=None, epsg_in=4326, epsg_out=3901)\n",
    "lat_gimbal_planar, lon_gimbal_planar = myHelper.convert_DDMMS_to_planar(lon_gimbal, lat_gimbal, offset=None, epsg_in=4326, epsg_out=3901)\n",
    "        \n",
    "position_drone = np.array([lon_drone_planar, lat_drone_planar, height_drone])\n",
    "position_gimbal = np.array([lon_gimbal_planar, lat_gimbal_planar, height_gimbal])\n",
    "print(f\"[DEBUG]: POS_DRONE: {position_drone}, POS_GROUND: {position_gimbal}\")\n",
    "        \n",
    "#d_mobile_drone_3D = np.linalg.norm(position_drone - position_gimbal)\n",
    "d_mobile_drone_2D = np.linalg.norm(position_drone[:-1] - position_gimbal[:-1])\n",
    "print(f\"[DEBUG]: Azimuth distance from ground to drone station: {d_mobile_drone_2D}\")\n",
    "                \n",
    "# Elevation angle of the drone referenced to GROUND station plane. \n",
    "# Is also the roll angle to send to the gimbal\n",
    "roll_to_set = np.arctan2(height_drone - height_gimbal, d_mobile_drone_2D)\n",
    "roll_to_set = int(np.rad2deg(roll_to_set)*10)\n",
    "\n",
    "print(roll_to_set)"
   ]
  }
 ],
 "metadata": {
  "kernelspec": {
   "display_name": "Python 3.10.4 ('gimbalRS2')",
   "language": "python",
   "name": "python3"
  },
  "language_info": {
   "codemirror_mode": {
    "name": "ipython",
    "version": 3
   },
   "file_extension": ".py",
   "mimetype": "text/x-python",
   "name": "python",
   "nbconvert_exporter": "python",
   "pygments_lexer": "ipython3",
   "version": "3.10.4"
  },
  "orig_nbformat": 4,
  "vscode": {
   "interpreter": {
    "hash": "f7329af74abc2ff661e31e7b365be03b5ff7d7da9999541aafc247cafecfe793"
   }
  }
 },
 "nbformat": 4,
 "nbformat_minor": 2
}

{
 "cells": [
  {
   "cell_type": "code",
   "execution_count": null,
   "metadata": {},
   "outputs": [],
   "source": [
    "import codecs\n",
    "import os\n",
    "import sys\n",
    "import threading\n",
    "import serial\n",
    "from serial.tools.list_ports import comports"
   ]
  },
  {
   "cell_type": "markdown",
   "metadata": {},
   "source": [
    "1. Gimbal control"
   ]
  },
  {
   "cell_type": "code",
   "execution_count": null,
   "metadata": {},
   "outputs": [],
   "source": [
    "from a2gmeasurements import GimbalRS2\n",
    "import time, timeit\n",
    "import numpy as np\n",
    "\n",
    "myGimbal = GimbalRS2()\n",
    "myGimbal.start_thread_gimbal()"
   ]
  },
  {
   "cell_type": "code",
   "execution_count": null,
   "metadata": {},
   "outputs": [],
   "source": [
    "from a2gmeasurements import GimbalRS2\n",
    "import time, timeit\n",
    "import numpy as np\n",
    "\n",
    "myGimbal = GimbalRS2()\n",
    "myGimbal.start_thread_gimbal()\n",
    "\n",
    "assumed_time_for_execute_time = 0.0015 # s\n",
    "gimbal_speed = (1800/3.47) # DEG/s\n",
    "condition_continue = True\n",
    "tol = gimbal_speed * assumed_time_for_execute_time\n",
    "cnt = 0\n",
    "myGimbal.request_current_position()\n",
    "time.sleep(0.0015)\n",
    "last_yaw = myGimbal.yaw \n",
    "last_roll = myGimbal.roll\n",
    "print('Outside: ',last_yaw, last_roll)\n",
    "myGimbal.setPosControl(yaw=1250, roll=0, pitch=0)\n",
    "time.sleep(1)\n",
    "while(condition_continue):\n",
    "    print('Execution time: ', timeit.default_timer() - start)\n",
    "    myGimbal.request_current_position()\n",
    "    time.sleep(0.0015)\n",
    "    print('Inside: ', myGimbal.yaw, myGimbal.roll)\n",
    "    \n",
    "    if np.abs(last_yaw - myGimbal.yaw) < tol and np.abs(last_roll - myGimbal.roll) < tol:\n",
    "        condition_continue = False\n",
    "    else:\n",
    "        last_yaw = myGimbal.yaw\n",
    "        last_roll = myGimbal.roll\n",
    "        start = timeit.default_timer()\n",
    "    cnt = cnt+1\n",
    "    print(cnt)\n",
    "    \n"
   ]
  },
  {
   "cell_type": "code",
   "execution_count": null,
   "metadata": {},
   "outputs": [],
   "source": [
    "#myGimbal.request_current_position()\n",
    "myGimbal.setPosControl(yaw=0, roll=0, pitch=0)"
   ]
  },
  {
   "cell_type": "code",
   "execution_count": null,
   "metadata": {},
   "outputs": [],
   "source": [
    "myGimbal.stop_thread_gimbal()\n",
    "time.sleep(0.05)\n",
    "myGimbal.actual_bus.shutdown()"
   ]
  },
  {
   "cell_type": "markdown",
   "metadata": {},
   "source": [
    "2. Anritsu Control"
   ]
  },
  {
   "cell_type": "code",
   "execution_count": null,
   "metadata": {},
   "outputs": [],
   "source": [
    "from a2gmeasurements import myAnritsuSpectrumAnalyzer\n",
    "\n",
    "mySA = myAnritsuSpectrumAnalyzer()\n",
    "mySA.spectrum_analyzer_connect()\n",
    "rx_power =  mySA.retrieve_max_pow()\n",
    "print(rx_power)\n",
    "mySA.spectrum_analyzer_close()"
   ]
  },
  {
   "cell_type": "markdown",
   "metadata": {},
   "source": [
    "3. Septentrio Control"
   ]
  },
  {
   "cell_type": "code",
   "execution_count": null,
   "metadata": {},
   "outputs": [],
   "source": [
    "from a2gmeasurements import GpsSignaling\n",
    "mySeptentrioGPS = GpsSignaling(DBG_LVL_2=True, DBG_LVL_0=True)"
   ]
  },
  {
   "cell_type": "code",
   "execution_count": null,
   "metadata": {},
   "outputs": [],
   "source": [
    "mySeptentrioGPS.serial_connect()\n",
    "mySeptentrioGPS.start_thread_gps()\n",
    "mySeptentrioGPS.start_gps_data_retrieval(msg_type='NMEA', nmea_type='GGA', interval='sec1') # HDF instead of GGA for heading info\n",
    "#mySeptentrioGPS.start_gps_data_retrieval(msg_type='SBF')"
   ]
  },
  {
   "cell_type": "code",
   "execution_count": null,
   "metadata": {},
   "outputs": [],
   "source": [
    "mySeptentrioGPS.stop_gps_data_retrieval(msg_type='NMEA')\n",
    "mySeptentrioGPS.stop_thread_gps()"
   ]
  },
  {
   "cell_type": "code",
   "execution_count": null,
   "metadata": {},
   "outputs": [],
   "source": [
    "print(len(mySeptentrioGPS.SBF_frame_buffer), len(mySeptentrioGPS.NMEA_buffer))\n",
    "if len(mySeptentrioGPS.SBF_frame_buffer) > 0:\n",
    "    print(mySeptentrioGPS.SBF_frame_buffer[-1])\n",
    "if len(mySeptentrioGPS.NMEA_buffer) > 0:\n",
    "    print(mySeptentrioGPS.NMEA_buffer[-1])"
   ]
  },
  {
   "cell_type": "markdown",
   "metadata": {},
   "source": [
    "Precision of distance when using planar coordinates ('precision' is given by google estimate of distance)"
   ]
  },
  {
   "cell_type": "code",
   "execution_count": null,
   "metadata": {},
   "outputs": [],
   "source": [
    "import pyproj as proj\n",
    "from a2gmeasurements import HelperA2GMeasurements\n",
    "import numpy as np\n",
    "\n",
    "pt_hammentie_50 = [60.186977663598164, 24.961182204780805]\n",
    "pt_hakaniemi_mkt = [60.17907971164074, 24.951228689442726]\n",
    "\n",
    "h = HelperA2GMeasurements()\n",
    "\n",
    "lat_pln_hamm, lon_pln_hamm = h.convert_DDMMS_to_planar(24.961182204780805, 60.186977663598164)\n",
    "lat_pln_hak, lon_pln_hak = h.convert_DDMMS_to_planar(24.951228689442726, 60.17907971164074)\n",
    "\n",
    "# Compare this distance with Google MAPS: CHECKED ---> within 2m error\n",
    "d_hamm_hak = np.linalg.norm(np.array([lon_pln_hamm, lat_pln_hamm]) - np.array([lon_pln_hak, lat_pln_hak]))"
   ]
  },
  {
   "cell_type": "markdown",
   "metadata": {},
   "source": [
    "Example of a real GPS NMEA output"
   ]
  },
  {
   "cell_type": "code",
   "execution_count": null,
   "metadata": {},
   "outputs": [],
   "source": [
    "real_gps_data = {'Timestamp': '110815.00', \n",
    "                 'Latitude': '6011.1011606', \n",
    "                 'Latitude Direction': 'N', \n",
    "                 'Longitude': '02448.9144475', \n",
    "                 'Longitude Direction': 'E', \n",
    "                 'GPS Quality Indicator': '2', \n",
    "                 'Number of Satellites in use': '28', \n",
    "                 'Horizontal Dilution of Precision': '0.6', \n",
    "                 'Antenna Alt above sea level (mean)': '0.9230', \n",
    "                 'Units of altitude (meters)': 'M', \n",
    "                 'Geoidal Separation': '19.5883', \n",
    "                 'Units of Geoidal Separation (meters)': 'M', \n",
    "                 'Age of Differential GPS Data (secs)': '1.8', \n",
    "                 'Differential Reference Station ID': '0123'}"
   ]
  },
  {
   "cell_type": "markdown",
   "metadata": {},
   "source": [
    "Server connection"
   ]
  },
  {
   "cell_type": "code",
   "execution_count": null,
   "metadata": {},
   "outputs": [],
   "source": [
    "from socket import socket\n",
    "import time\n",
    "from a2gmeasurements import HelperA2GMeasurements\n",
    "\n",
    "host = 'localhost'\n",
    "myHelper = HelperA2GMeasurements('GROUND', host)\n",
    "myHelper.HelperStartA2GCom()\n"
   ]
  },
  {
   "cell_type": "code",
   "execution_count": null,
   "metadata": {},
   "outputs": [],
   "source": [
    "myHelper.HelperA2GStopCom()\n",
    "print(myHelper.SOCKET_BUFFER, len(myHelper.SOCKET_BUFFER))"
   ]
  },
  {
   "cell_type": "markdown",
   "metadata": {},
   "source": [
    "5. Signal generator"
   ]
  },
  {
   "cell_type": "code",
   "execution_count": null,
   "metadata": {},
   "outputs": [],
   "source": [
    "import pyvisa\n",
    "\n",
    "rm = pyvisa.ResourceManager()\n",
    "print(rm.list_resources())\n"
   ]
  },
  {
   "cell_type": "code",
   "execution_count": null,
   "metadata": {},
   "outputs": [],
   "source": [
    "inst = rm.open_resource('GPIB0::19::INSTR')\n",
    "print(inst.query(\"*IDN?\"))\n"
   ]
  },
  {
   "cell_type": "code",
   "execution_count": null,
   "metadata": {},
   "outputs": [],
   "source": [
    "inst.write('F0 28.95 GH\\n')\n",
    "inst.write('L0 20 DM\\n')"
   ]
  },
  {
   "cell_type": "code",
   "execution_count": null,
   "metadata": {},
   "outputs": [],
   "source": [
    "# Turn On RF output\n",
    "inst.write('RF1\\n')"
   ]
  },
  {
   "cell_type": "code",
   "execution_count": null,
   "metadata": {},
   "outputs": [],
   "source": [
    "# Turn Off RF output\n",
    "inst.write('RF0\\n')"
   ]
  },
  {
   "cell_type": "code",
   "execution_count": 1,
   "metadata": {},
   "outputs": [
    {
     "data": {
      "text/plain": [
       "{'Timestamp': 1665570904.0,\n",
       " 'Data': [-61.53,\n",
       "  -58.73,\n",
       "  -58.37,\n",
       "  -63.25,\n",
       "  -60.2,\n",
       "  -59.52,\n",
       "  -59.43,\n",
       "  -60.59,\n",
       "  -58.83,\n",
       "  -60.21,\n",
       "  -62.16,\n",
       "  -58.56,\n",
       "  -55.29,\n",
       "  -57.69,\n",
       "  -57.28,\n",
       "  -58.02,\n",
       "  -60.27,\n",
       "  -58.31,\n",
       "  -57.97,\n",
       "  -59.44,\n",
       "  -58.33,\n",
       "  -57.78,\n",
       "  -57.94,\n",
       "  -56.14,\n",
       "  -55.15,\n",
       "  -60.67,\n",
       "  -57.59,\n",
       "  -56.17,\n",
       "  -55.98,\n",
       "  -58.77,\n",
       "  -59.77,\n",
       "  -57.71,\n",
       "  -57.77,\n",
       "  -57.53,\n",
       "  -59.65,\n",
       "  -60.84,\n",
       "  -59.67,\n",
       "  -59.48,\n",
       "  -61.94,\n",
       "  -61.11,\n",
       "  -57.97,\n",
       "  -60.23,\n",
       "  -60.16,\n",
       "  -58.59,\n",
       "  -58.18,\n",
       "  -57.02,\n",
       "  -58.05,\n",
       "  -58.31,\n",
       "  -59.03,\n",
       "  -57.68,\n",
       "  -57.05,\n",
       "  -55.63,\n",
       "  -58.04,\n",
       "  -58.62,\n",
       "  -54.49,\n",
       "  -60.62,\n",
       "  -61.57,\n",
       "  -56.26,\n",
       "  -57.58,\n",
       "  -58.91,\n",
       "  -59.48,\n",
       "  -57.37,\n",
       "  -61.32,\n",
       "  -58.93,\n",
       "  -57.05,\n",
       "  -56.99,\n",
       "  -56.6,\n",
       "  -60.04,\n",
       "  -57.54,\n",
       "  -60.48,\n",
       "  -56.38,\n",
       "  -57.9,\n",
       "  -58.59,\n",
       "  -57.93,\n",
       "  -57.63,\n",
       "  -56.67,\n",
       "  -55.75,\n",
       "  -56.47,\n",
       "  -61.39,\n",
       "  -55.54,\n",
       "  -55.34,\n",
       "  -55.74,\n",
       "  -57.67,\n",
       "  -57.4,\n",
       "  -55.77,\n",
       "  -59.54,\n",
       "  -57.66,\n",
       "  -56.73,\n",
       "  -58.12,\n",
       "  -58.64,\n",
       "  -55.19,\n",
       "  -58.48,\n",
       "  -57.35,\n",
       "  -59.26,\n",
       "  -56.67,\n",
       "  -60.32,\n",
       "  -56.08,\n",
       "  -58.77,\n",
       "  -61.23,\n",
       "  -58.7,\n",
       "  -65.24],\n",
       " 'NSamp': [0,\n",
       "  1,\n",
       "  2,\n",
       "  3,\n",
       "  4,\n",
       "  5,\n",
       "  6,\n",
       "  7,\n",
       "  8,\n",
       "  9,\n",
       "  10,\n",
       "  11,\n",
       "  12,\n",
       "  13,\n",
       "  14,\n",
       "  15,\n",
       "  16,\n",
       "  17,\n",
       "  18,\n",
       "  19,\n",
       "  20,\n",
       "  21,\n",
       "  22,\n",
       "  23,\n",
       "  24,\n",
       "  25,\n",
       "  26,\n",
       "  27,\n",
       "  28,\n",
       "  29,\n",
       "  30,\n",
       "  31,\n",
       "  32,\n",
       "  33,\n",
       "  34,\n",
       "  35,\n",
       "  36,\n",
       "  37,\n",
       "  38,\n",
       "  39,\n",
       "  40,\n",
       "  41,\n",
       "  42,\n",
       "  43,\n",
       "  44,\n",
       "  45,\n",
       "  46,\n",
       "  47,\n",
       "  48,\n",
       "  49,\n",
       "  50,\n",
       "  51,\n",
       "  52,\n",
       "  53,\n",
       "  54,\n",
       "  55,\n",
       "  56,\n",
       "  57,\n",
       "  58,\n",
       "  59,\n",
       "  60,\n",
       "  61,\n",
       "  62,\n",
       "  63,\n",
       "  64,\n",
       "  65,\n",
       "  66,\n",
       "  67,\n",
       "  68,\n",
       "  69,\n",
       "  70,\n",
       "  71,\n",
       "  72,\n",
       "  73,\n",
       "  74,\n",
       "  75,\n",
       "  76,\n",
       "  77,\n",
       "  78,\n",
       "  79,\n",
       "  80,\n",
       "  81,\n",
       "  82,\n",
       "  83,\n",
       "  84,\n",
       "  85,\n",
       "  86,\n",
       "  87,\n",
       "  88,\n",
       "  89,\n",
       "  90,\n",
       "  91,\n",
       "  92,\n",
       "  93,\n",
       "  94,\n",
       "  95,\n",
       "  96,\n",
       "  97,\n",
       "  98,\n",
       "  99,\n",
       "  100]}"
      ]
     },
     "execution_count": 1,
     "metadata": {},
     "output_type": "execute_result"
    }
   ],
   "source": [
    "from a2gmeasurements import myAnritsuSpectrumAnalyzer\n",
    "\n",
    "dir = 'C://Users//jvjulian//OneDrive - Teknologian Tutkimuskeskus VTT//Documents//Measurement 1//20221012133438//'\n",
    "file = 'CONT20221012133504968.rsm'\n",
    "\n",
    "anritsu = myAnritsuSpectrumAnalyzer()\n",
    "anritsu.parse_xml_file(dir + file)\n",
    "anritsu.XML_file"
   ]
  },
  {
   "cell_type": "code",
   "execution_count": null,
   "metadata": {},
   "outputs": [],
   "source": []
  }
 ],
 "metadata": {
  "kernelspec": {
   "display_name": "Python 3.10.4 ('gimbalRS2')",
   "language": "python",
   "name": "python3"
  },
  "language_info": {
   "codemirror_mode": {
    "name": "ipython",
    "version": 3
   },
   "file_extension": ".py",
   "mimetype": "text/x-python",
   "name": "python",
   "nbconvert_exporter": "python",
   "pygments_lexer": "ipython3",
   "version": "3.10.4"
  },
  "orig_nbformat": 4,
  "vscode": {
   "interpreter": {
    "hash": "f7329af74abc2ff661e31e7b365be03b5ff7d7da9999541aafc247cafecfe793"
   }
  }
 },
 "nbformat": 4,
 "nbformat_minor": 2
}

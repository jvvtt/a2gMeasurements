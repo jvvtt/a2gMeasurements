{
 "cells": [
  {
   "cell_type": "code",
   "execution_count": null,
   "metadata": {},
   "outputs": [],
   "source": [
    "import codecs\n",
    "import os\n",
    "import sys\n",
    "import threading\n",
    "import serial\n",
    "from serial.tools.list_ports import comports"
   ]
  },
  {
   "cell_type": "code",
   "execution_count": null,
   "metadata": {},
   "outputs": [],
   "source": [
    "import pynmea2\n",
    "\n",
    "nmeaobj = pynmea2.parse(data.decode('utf-8'))\n",
    "['%s: %s' % (nmeaobj.fields[i][0], nmeaobj.data[i]) \n",
    "     for i in range(len(nmeaobj.fields))]"
   ]
  },
  {
   "cell_type": "code",
   "execution_count": null,
   "metadata": {},
   "outputs": [],
   "source": [
    "from a2gmeasurements import GpsSignaling\n",
    "\n",
    "mySeptentrio = GpsSignaling(1)\n",
    "mySeptentrio.serial_connect()\n",
    "mySeptentrio.start_thread_serial()\n",
    "mySeptentrio.sendCommandGps('sno, Stream 3, USB1, GGA, sec1')"
   ]
  },
  {
   "cell_type": "code",
   "execution_count": null,
   "metadata": {},
   "outputs": [],
   "source": [
    "mySeptentrio.stop_thread_serial()\n",
    "print(len(mySeptentrio.gps_rx_buffer), mySeptentrio.gps_rx_buffer[0])"
   ]
  },
  {
   "cell_type": "code",
   "execution_count": null,
   "metadata": {},
   "outputs": [],
   "source": [
    "from a2gmeasurements import myAnritsuSpectrumAnalyzer\n",
    "\n",
    "mySA = myAnritsuSpectrumAnalyzer()\n",
    "mySA.spectrum_analyzer_connect()\n",
    "rx_power =  mySA.retrieve_max_pow()\n",
    "print(rx_power)\n",
    "mySA.spectrum_analyzer_close()"
   ]
  },
  {
   "cell_type": "code",
   "execution_count": 1,
   "metadata": {},
   "outputs": [
    {
     "name": "stdout",
     "output_type": "stream",
     "text": [
      "setSBFOutput, Stream 1, USB1, PVTCartesian, sec1\n"
     ]
    }
   ],
   "source": [
    "from a2gmeasurements import GpsSignaling\n",
    "\n",
    "mySeptentrioGPS = GpsSignaling(1)\n",
    "\n",
    "mySeptentrioGPS.serial_connect()\n",
    "mySeptentrioGPS.start_thread_serial()\n",
    "#mySeptentrioGPS.start_gps_data_retrieval(msg_type='NMEA', nmea_type='HDT')\n",
    "mySeptentrioGPS.start_gps_data_retrieval(msg_type='SBF')"
   ]
  },
  {
   "cell_type": "code",
   "execution_count": 2,
   "metadata": {},
   "outputs": [],
   "source": [
    "mySeptentrioGPS.stop_gps_data_retrieval(msg_type='SBF')\n",
    "mySeptentrioGPS.stop_thread_serial()"
   ]
  },
  {
   "cell_type": "code",
   "execution_count": 3,
   "metadata": {},
   "outputs": [
    {
     "name": "stdout",
     "output_type": "stream",
     "text": [
      "5 0\n",
      "{'SYNC2': b'@', 'CRC': 52592, 'ID': 20390, 'LEN': 96, 'TOW': 4294967295, 'WNc': 65535, 'MODE': 0, 'ERR': 1, 'X': -20000000000.0, 'Y': -20000000000.0, 'Z': -20000000000.0, 'Undulation': -20000000000.0, 'Vx': -20000000000.0, 'Vy': -20000000000.0, 'Vz': -20000000000.0, 'COG': -20000000000.0, 'RxClkBias': -20000000000.0, 'RxClkDrift': -20000000000.0, 'TimeSystem': 255, 'Datum': 255, 'NrSV': 255, 'WACorrInfo': 0, 'ReferenceID': 65535, 'MeanCorrAge': 65535, 'SignalInfo': 0, 'AlertFlag': 0, 'NrBases': 0, 'PPPInfo': 0, 'Latency': 18, 'HAccuracy': 65535, 'VAccuracy': 65535, 'Misc': 0, 'Padding': 0}\n"
     ]
    }
   ],
   "source": [
    "print(len(mySeptentrioGPS.SBF_frame_buffer), len(mySeptentrioGPS.NMEA_buffer))\n",
    "if len(mySeptentrioGPS.SBF_frame_buffer) > 0:\n",
    "    print(mySeptentrioGPS.SBF_frame_buffer[0])\n",
    "if len(mySeptentrioGPS.NMEA_buffer) > 0:\n",
    "    print(mySeptentrioGPS.NMEA_buffer[0])"
   ]
  }
 ],
 "metadata": {
  "kernelspec": {
   "display_name": "Python 3.10.4 ('gimbalRS2')",
   "language": "python",
   "name": "python3"
  },
  "language_info": {
   "codemirror_mode": {
    "name": "ipython",
    "version": 3
   },
   "file_extension": ".py",
   "mimetype": "text/x-python",
   "name": "python",
   "nbconvert_exporter": "python",
   "pygments_lexer": "ipython3",
   "version": "3.10.4"
  },
  "orig_nbformat": 4,
  "vscode": {
   "interpreter": {
    "hash": "f7329af74abc2ff661e31e7b365be03b5ff7d7da9999541aafc247cafecfe793"
   }
  }
 },
 "nbformat": 4,
 "nbformat_minor": 2
}

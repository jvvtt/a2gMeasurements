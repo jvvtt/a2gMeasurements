{
 "cells": [
  {
   "cell_type": "code",
   "execution_count": null,
   "metadata": {},
   "outputs": [],
   "source": [
    "import socket\n",
    "\n",
    "def receive_nmea_msg_gps(HOST='192.168.3.1', PORT=28784, time='sec1'):\n",
    "    \"\"\"_summary_\n",
    "\n",
    "    Args:\n",
    "        HOST (str, optional): IP address of receiver. Defaults to '192.168.3.1'.\n",
    "        PORT (int, optional): TCP/IP PORT. Defaults to 28784.\n",
    "        time (str, optional): regularity of NMEA messages. Defaults to 'sec1'.\n",
    "    \"\"\"''\n",
    "\n",
    "    with socket.socket(socket.AF_INET, socket.SOCK_STREAM) as s:\n",
    "        \n",
    "        # Connect to the GPS \n",
    "        s.connect((HOST, PORT))\n",
    "        \n",
    "        # Receive the command line: if all good\n",
    "        data = s.recv(64)\n",
    "\n",
    "        # Establish a stream for this established connection\n",
    "        command_msg = 'sno, Stream 3, IP11, GGA, ' + time + '\\n'\n",
    "        s.sendall(command_msg.encode('utf-8'))\n",
    "        \n",
    "        \n",
    "        for i in range(5):\n",
    "            data = s.recv(64)\n",
    "            print(data)\n"
   ]
  },
  {
   "cell_type": "code",
   "execution_count": 50,
   "metadata": {},
   "outputs": [
    {
     "ename": "OSError",
     "evalue": "[WinError 10013] An attempt was made to access a socket in a way forbidden by its access permissions",
     "output_type": "error",
     "traceback": [
      "\u001b[1;31m---------------------------------------------------------------------------\u001b[0m",
      "\u001b[1;31mOSError\u001b[0m                                   Traceback (most recent call last)",
      "Cell \u001b[1;32mIn [50], line 7\u001b[0m\n\u001b[0;32m      4\u001b[0m PORT \u001b[38;5;241m=\u001b[39m \u001b[38;5;241m28784\u001b[39m \u001b[38;5;66;03m# The port used by the server\u001b[39;00m\n\u001b[0;32m      6\u001b[0m \u001b[38;5;28;01mwith\u001b[39;00m socket\u001b[38;5;241m.\u001b[39msocket(socket\u001b[38;5;241m.\u001b[39mAF_INET, socket\u001b[38;5;241m.\u001b[39mSOCK_STREAM) \u001b[38;5;28;01mas\u001b[39;00m s:\n\u001b[1;32m----> 7\u001b[0m     \u001b[43ms\u001b[49m\u001b[38;5;241;43m.\u001b[39;49m\u001b[43mconnect\u001b[49m\u001b[43m(\u001b[49m\u001b[43m(\u001b[49m\u001b[43mHOST\u001b[49m\u001b[43m,\u001b[49m\u001b[43m \u001b[49m\u001b[43mPORT\u001b[49m\u001b[43m)\u001b[49m\u001b[43m)\u001b[49m\n\u001b[0;32m      8\u001b[0m     \u001b[38;5;66;03m#s.sendall(b\"Hello, world\")\u001b[39;00m\n\u001b[0;32m      9\u001b[0m     data \u001b[38;5;241m=\u001b[39m s\u001b[38;5;241m.\u001b[39mrecv(\u001b[38;5;241m64\u001b[39m)\n",
      "\u001b[1;31mOSError\u001b[0m: [WinError 10013] An attempt was made to access a socket in a way forbidden by its access permissions"
     ]
    }
   ],
   "source": [
    "import socket\n",
    "\n",
    "HOST = \"192.168.3.1\"  # The server's hostname or IP address\n",
    "PORT = 28784 # The port used by the server\n",
    "\n",
    "with socket.socket(socket.AF_INET, socket.SOCK_STREAM) as s:\n",
    "    s.connect((HOST, PORT))\n",
    "    #s.sendall(b\"Hello, world\")\n",
    "    data = s.recv(64)\n",
    "\n",
    "    print(data)\n",
    "\n",
    "    s.sendall('sno, Stream 3, IP11, GGA, sec1\\n'.encode('utf-8'))\n",
    "    \n",
    "    for i in range(5):\n",
    "        data = s.recv(64)\n",
    "        print(data)\n",
    "\n",
    "print(7)"
   ]
  },
  {
   "cell_type": "code",
   "execution_count": 2,
   "metadata": {},
   "outputs": [],
   "source": [
    "import codecs\n",
    "import os\n",
    "import sys\n",
    "import threading\n",
    "import serial\n",
    "from serial.tools.list_ports import comports"
   ]
  },
  {
   "cell_type": "code",
   "execution_count": 3,
   "metadata": {},
   "outputs": [],
   "source": [
    "\n",
    "\n",
    "def ask_for_port():\n",
    "    \"\"\"\\\n",
    "    Show a list of ports and ask the user for a choice. To make selection\n",
    "    easier on systems with long device names, also allow the input of an\n",
    "    index.\n",
    "    \"\"\"\n",
    "    sys.stderr.write('\\n--- Available ports:\\n')\n",
    "    ports = []\n",
    "    for n, (port, desc, hwid) in enumerate(sorted(comports()), 1):\n",
    "        sys.stderr.write('--- {:2}: {:20} {!r}\\n'.format(n, port, desc))\n",
    "        ports.append(port)\n",
    "    while True:\n",
    "        sys.stderr.write('--- Enter port index or full name: ')\n",
    "        port = input('')\n",
    "        try:\n",
    "            index = int(port) - 1\n",
    "            if not 0 <= index < len(ports):\n",
    "                sys.stderr.write('--- Invalid index!\\n')\n",
    "                continue\n",
    "        except ValueError:\n",
    "            pass\n",
    "        else:\n",
    "            port = ports[index]\n",
    "        return port\n",
    " \n",
    " "
   ]
  },
  {
   "cell_type": "code",
   "execution_count": 34,
   "metadata": {},
   "outputs": [
    {
     "name": "stderr",
     "output_type": "stream",
     "text": [
      "\n",
      "--- Available ports:\n",
      "---  1: COM3                 'Intel(R) Active Management Technology - SOL (COM3)'\n",
      "---  2: COM11                'Septentrio Virtual USB COM Port 1 (COM11)'\n",
      "---  3: COM12                'Septentrio Virtual USB COM Port 2 (COM12)'\n",
      "--- Enter port index or full name: "
     ]
    },
    {
     "name": "stdout",
     "output_type": "stream",
     "text": [
      "COM11 <class 'str'>\n"
     ]
    }
   ],
   "source": [
    "port = ask_for_port()\n",
    "print(port, type(port))"
   ]
  },
  {
   "cell_type": "code",
   "execution_count": 35,
   "metadata": {},
   "outputs": [
    {
     "name": "stdout",
     "output_type": "stream",
     "text": [
      "we did it\n",
      "We enter\n",
      "loop is over\n"
     ]
    }
   ],
   "source": [
    "serial_instance = None\n",
    "while serial_instance is None:\n",
    "    try:\n",
    "        serial_instance = serial.serial_for_url(port,\n",
    "                                                9600,\n",
    "                                                parity='N',\n",
    "                                                rtscts=False,\n",
    "                                                xonxoff=False,\n",
    "                                                do_not_open=True)\n",
    "\n",
    "        \n",
    "        serial_instance.timeout = 1\n",
    "                    \n",
    "        serial_instance.exclusive = True\n",
    "        serial_instance.open()\n",
    "        \n",
    "        print('we did it')\n",
    "        \n",
    "        \n",
    "    except serial.SerialException as e:\n",
    "        sys.stderr.write('could not open port {!r}: {}\\n'.format(port, e))\n",
    "\n",
    "    else:\n",
    "        print('We enter')\n",
    "        break\n",
    "\n",
    "print('loop is over')\n",
    "        "
   ]
  },
  {
   "cell_type": "code",
   "execution_count": 36,
   "metadata": {},
   "outputs": [],
   "source": [
    "import threading\n",
    "import pynmea2\n",
    "\n",
    "buffer = []\n",
    "cnt = 0\n",
    "\n",
    "def process_data(data):\n",
    "    try:\n",
    "        nmeaobj = pynmea2.parse(data.decode('utf-8'))\n",
    "        extracted_data = ['%s: %s' % (nmeaobj.fields[i][0], nmeaobj.data[i]) for i in range(len(nmeaobj.fields))]\n",
    "    except:\n",
    "        # Do not save any other comand line\n",
    "        return\n",
    "    \n",
    "    #extracted_data.append('Num_Line_RX: ' + str(cnt_here))\n",
    "    buffer.append(extracted_data)\n",
    "    \n",
    "def receive_serial(serial_instance_actual, stop_event):\n",
    "    while not stop_event.is_set():\n",
    "        rx_msg = serial_instance_actual.readline()\n",
    "        #cnt = cnt+1\n",
    "        if rx_msg is not None:\n",
    "            process_data(rx_msg)"
   ]
  },
  {
   "cell_type": "code",
   "execution_count": 37,
   "metadata": {},
   "outputs": [],
   "source": [
    "event_stop_thread_serial = threading.Event()\n",
    "t_receive = threading.Thread(target=receive_serial, args=(serial_instance, event_stop_thread_serial))\n",
    "t_receive.start()"
   ]
  },
  {
   "cell_type": "code",
   "execution_count": 43,
   "metadata": {},
   "outputs": [],
   "source": [
    "event_stop_thread_serial.set()"
   ]
  },
  {
   "cell_type": "code",
   "execution_count": 38,
   "metadata": {},
   "outputs": [
    {
     "data": {
      "text/plain": [
       "31"
      ]
     },
     "execution_count": 38,
     "metadata": {},
     "output_type": "execute_result"
    }
   ],
   "source": [
    "serial_instance.write('sno, Stream 3, USB1, GGA, sec1\\n'.encode('utf-8'))"
   ]
  },
  {
   "cell_type": "code",
   "execution_count": 46,
   "metadata": {},
   "outputs": [],
   "source": [
    "serial_instance.close()"
   ]
  },
  {
   "cell_type": "code",
   "execution_count": null,
   "metadata": {},
   "outputs": [],
   "source": [
    "import pynmea2\n",
    "\n",
    "nmeaobj = pynmea2.parse(data.decode('utf-8'))\n",
    "['%s: %s' % (nmeaobj.fields[i][0], nmeaobj.data[i]) \n",
    "     for i in range(len(nmeaobj.fields))]"
   ]
  },
  {
   "cell_type": "code",
   "execution_count": 1,
   "metadata": {},
   "outputs": [],
   "source": [
    "from a2gmeasurements import GpsSignaling\n",
    "\n",
    "mySeptentrio = GpsSignaling(1)\n",
    "mySeptentrio.serial_connect()\n",
    "\n",
    "mySeptentrio.start_thread_serial()\n",
    "\n",
    "mySeptentrio.sendCommandGps('sno, Stream 3, USB1, GGA, sec1')\n"
   ]
  },
  {
   "cell_type": "code",
   "execution_count": 6,
   "metadata": {},
   "outputs": [],
   "source": [
    "mySeptentrio.stop_thread_serial()"
   ]
  },
  {
   "cell_type": "code",
   "execution_count": 7,
   "metadata": {},
   "outputs": [
    {
     "data": {
      "text/plain": [
       "18"
      ]
     },
     "execution_count": 7,
     "metadata": {},
     "output_type": "execute_result"
    }
   ],
   "source": [
    "len(mySeptentrio.gps_rx_buffer)"
   ]
  },
  {
   "cell_type": "code",
   "execution_count": 9,
   "metadata": {},
   "outputs": [
    {
     "data": {
      "text/plain": [
       "''"
      ]
     },
     "execution_count": 9,
     "metadata": {},
     "output_type": "execute_result"
    }
   ],
   "source": [
    "mySeptentrio.gps_rx_buffer[0]['Timestamp']"
   ]
  },
  {
   "cell_type": "code",
   "execution_count": 1,
   "metadata": {},
   "outputs": [
    {
     "name": "stdout",
     "output_type": "stream",
     "text": [
      "{'MAG': '-50.03\\n', 'MAG_UNITS': 'dBm', 'FREQ': '60032000000', 'FREQ_UNITS': 'Hz'}\n"
     ]
    }
   ],
   "source": [
    "from a2gmeasurements import myAnritsuSpectrumAnalyzer\n",
    "\n",
    "mySA = myAnritsuSpectrumAnalyzer()\n",
    "mySA.sepectrum_analyzer_connect()\n",
    "rx_power =  mySA.retrieve_max_pow()\n",
    "\n",
    "print(rx_power)\n",
    "\n",
    "mySA.spectrum_analyzer_close()\n",
    "\n"
   ]
  },
  {
   "cell_type": "code",
   "execution_count": null,
   "metadata": {},
   "outputs": [],
   "source": []
  }
 ],
 "metadata": {
  "kernelspec": {
   "display_name": "Python 3.10.4 ('gimbalRS2')",
   "language": "python",
   "name": "python3"
  },
  "language_info": {
   "codemirror_mode": {
    "name": "ipython",
    "version": 3
   },
   "file_extension": ".py",
   "mimetype": "text/x-python",
   "name": "python",
   "nbconvert_exporter": "python",
   "pygments_lexer": "ipython3",
   "version": "3.10.4"
  },
  "orig_nbformat": 4,
  "vscode": {
   "interpreter": {
    "hash": "f7329af74abc2ff661e31e7b365be03b5ff7d7da9999541aafc247cafecfe793"
   }
  }
 },
 "nbformat": 4,
 "nbformat_minor": 2
}

{
 "cells": [
  {
   "cell_type": "code",
   "execution_count": 7,
   "metadata": {},
   "outputs": [],
   "source": [
    "import json\n",
    "import numpy as np\n",
    "from socket import socket\n",
    "from a2gmeasurements import HelperA2GMeasurements, GimbalRS2, GpsSignaling\n",
    "import time, timeit"
   ]
  },
  {
   "cell_type": "code",
   "execution_count": 8,
   "metadata": {},
   "outputs": [],
   "source": [
    "meas_number = '1_AGAIN_2_40'"
   ]
  },
  {
   "attachments": {},
   "cell_type": "markdown",
   "metadata": {},
   "source": [
    "OPERATE GROUND GIMBAL WITH CMDS"
   ]
  },
  {
   "cell_type": "code",
   "execution_count": 9,
   "metadata": {},
   "outputs": [
    {
     "name": "stderr",
     "output_type": "stream",
     "text": [
      "uptime library not available, timestamps are relative to boot time and not to Epoch UTC\n",
      "Traceback (most recent call last):\n",
      "  File \"c:\\Users\\manifold-uav-vtt\\anaconda3\\envs\\uavCom\\lib\\site-packages\\can\\interfaces\\pcan\\pcan.py\", line 71, in <module>\n",
      "    import uptime\n",
      "ModuleNotFoundError: No module named 'uptime'\n"
     ]
    },
    {
     "name": "stdout",
     "output_type": "stream",
     "text": [
      "The driver is not loaded\n",
      "\n",
      "[DEBUG]: Gimbal thread NOT started\n"
     ]
    }
   ],
   "source": [
    "myGimbal = GimbalRS2()\n",
    "myGimbal.start_thread_gimbal()"
   ]
  },
  {
   "cell_type": "code",
   "execution_count": 10,
   "metadata": {},
   "outputs": [
    {
     "ename": "AttributeError",
     "evalue": "'GimbalRS2' object has no attribute 'actual_bus'",
     "output_type": "error",
     "traceback": [
      "\u001b[1;31m---------------------------------------------------------------------------\u001b[0m",
      "\u001b[1;31mAttributeError\u001b[0m                            Traceback (most recent call last)",
      "\u001b[1;32mc:\\Users\\manifold-uav-vtt\\Documents\\a2gMeasurements\\notebook_measurements.ipynb Cell 5\u001b[0m line \u001b[0;36m<cell line: 1>\u001b[1;34m()\u001b[0m\n\u001b[1;32m----> <a href='vscode-notebook-cell:/c%3A/Users/manifold-uav-vtt/Documents/a2gMeasurements/notebook_measurements.ipynb#W4sZmlsZQ%3D%3D?line=0'>1</a>\u001b[0m myGimbal\u001b[39m.\u001b[39;49msetPosControl(yaw\u001b[39m=\u001b[39;49m\u001b[39m1650\u001b[39;49m, roll\u001b[39m=\u001b[39;49m\u001b[39m0\u001b[39;49m, pitch\u001b[39m=\u001b[39;49m\u001b[39m131\u001b[39;49m)\n",
      "File \u001b[1;32mc:\\Users\\manifold-uav-vtt\\Documents\\a2gMeasurements\\a2gmeasurements.py:300\u001b[0m, in \u001b[0;36mGimbalRS2.setPosControl\u001b[1;34m(self, yaw, roll, pitch, ctrl_byte, time_for_action)\u001b[0m\n\u001b[0;32m    296\u001b[0m \u001b[39m# print(cmd_data)\u001b[39;00m\n\u001b[0;32m    297\u001b[0m cmd \u001b[39m=\u001b[39m \u001b[39mself\u001b[39m\u001b[39m.\u001b[39massemble_can_msg(cmd_type\u001b[39m=\u001b[39m\u001b[39m'\u001b[39m\u001b[39m03\u001b[39m\u001b[39m'\u001b[39m, cmd_set\u001b[39m=\u001b[39m\u001b[39m'\u001b[39m\u001b[39m0E\u001b[39m\u001b[39m'\u001b[39m,\n\u001b[0;32m    298\u001b[0m                             cmd_id\u001b[39m=\u001b[39m\u001b[39m'\u001b[39m\u001b[39m00\u001b[39m\u001b[39m'\u001b[39m, data\u001b[39m=\u001b[39mcmd_data)\n\u001b[1;32m--> 300\u001b[0m \u001b[39mself\u001b[39;49m\u001b[39m.\u001b[39;49msend_cmd(cmd)\n\u001b[0;32m    301\u001b[0m \u001b[39mreturn\u001b[39;00m \u001b[39mTrue\u001b[39;00m\n",
      "File \u001b[1;32mc:\\Users\\manifold-uav-vtt\\Documents\\a2gMeasurements\\a2gmeasurements.py:418\u001b[0m, in \u001b[0;36mGimbalRS2.send_cmd\u001b[1;34m(self, cmd)\u001b[0m\n\u001b[0;32m    410\u001b[0m \u001b[39m\"\"\"\u001b[39;00m\n\u001b[0;32m    411\u001b[0m \u001b[39mWrapper to send a comand \u001b[39;00m\n\u001b[0;32m    412\u001b[0m \n\u001b[0;32m    413\u001b[0m \u001b[39mArgs:\u001b[39;00m\n\u001b[0;32m    414\u001b[0m \u001b[39m    cmd (str): command fields separated by ':'\u001b[39;00m\n\u001b[0;32m    415\u001b[0m \u001b[39m\"\"\"\u001b[39;00m\n\u001b[0;32m    417\u001b[0m data \u001b[39m=\u001b[39m [\u001b[39mint\u001b[39m(i, \u001b[39m16\u001b[39m) \u001b[39mfor\u001b[39;00m i \u001b[39min\u001b[39;00m cmd\u001b[39m.\u001b[39msplit(\u001b[39m\"\u001b[39m\u001b[39m:\u001b[39m\u001b[39m\"\u001b[39m)]\n\u001b[1;32m--> 418\u001b[0m \u001b[39mself\u001b[39;49m\u001b[39m.\u001b[39;49msend_data(\u001b[39mself\u001b[39;49m\u001b[39m.\u001b[39;49msend_id, data)\n",
      "File \u001b[1;32mc:\\Users\\manifold-uav-vtt\\Documents\\a2gMeasurements\\a2gmeasurements.py:453\u001b[0m, in \u001b[0;36mGimbalRS2.send_data\u001b[1;34m(self, can_id, data)\u001b[0m\n\u001b[0;32m    451\u001b[0m \u001b[39mfor\u001b[39;00m m \u001b[39min\u001b[39;00m full_msg:\n\u001b[0;32m    452\u001b[0m     \u001b[39mtry\u001b[39;00m:\n\u001b[1;32m--> 453\u001b[0m         \u001b[39mself\u001b[39;49m\u001b[39m.\u001b[39;49mactual_bus\u001b[39m.\u001b[39msend(m)\n\u001b[0;32m    454\u001b[0m         \u001b[39mif\u001b[39;00m \u001b[39mself\u001b[39m\u001b[39m.\u001b[39mDBG_LVL_0:\n\u001b[0;32m    455\u001b[0m             \u001b[39mprint\u001b[39m(\u001b[39m'\u001b[39m\u001b[39m\\n\u001b[39;00m\u001b[39mgimbal RS2 Message sent on \u001b[39m\u001b[39m'\u001b[39m, \u001b[39mself\u001b[39m\u001b[39m.\u001b[39mactual_bus\u001b[39m.\u001b[39mchannel_info)\n",
      "\u001b[1;31mAttributeError\u001b[0m: 'GimbalRS2' object has no attribute 'actual_bus'"
     ]
    }
   ],
   "source": [
    "myGimbal.setPosControl(yaw=1650, roll=0, pitch=131)"
   ]
  },
  {
   "cell_type": "code",
   "execution_count": null,
   "metadata": {},
   "outputs": [],
   "source": [
    "myGimbal.stop_thread_gimbal()\n",
    "time.sleep(0.05)\n",
    "myGimbal.actual_bus.shutdown()"
   ]
  },
  {
   "attachments": {},
   "cell_type": "markdown",
   "metadata": {},
   "source": [
    "OPEN MEASUREMENT HELPER CLASS"
   ]
  },
  {
   "cell_type": "code",
   "execution_count": null,
   "metadata": {},
   "outputs": [],
   "source": [
    "host = ''\n",
    "myHelper = HelperA2GMeasurements('GROUND', host, DBG_LVL_0=False, \n",
    "                                 DBG_LVL_1=True, \n",
    "                                 IsGPS=True, \n",
    "                                 IsGimbal=True, \n",
    "                                 IsSignalGenerator=True,\n",
    "                                 F0=28.95,\n",
    "                                 L0=20)"
   ]
  },
  {
   "attachments": {},
   "cell_type": "markdown",
   "metadata": {},
   "source": [
    "PEAK SIGNAL GENERATOR CALIBRATION"
   ]
  },
  {
   "cell_type": "code",
   "execution_count": null,
   "metadata": {},
   "outputs": [],
   "source": [
    "# Turn On RF output\n",
    "myHelper.inst.write('RF1\\n')\n",
    "time.sleep(2)\n",
    "# Turn Off RF output\n",
    "myHelper.inst.write('RF0\\n')\n",
    "\n",
    "to_save_now = json.dumps(myHelper.mySeptentrioGPS.NMEA_buffer[-1])\n",
    "filename = 'MEASUREMENT_' + meas_number + '_SIGNAL_GENERATOR_CALIBRATION_PEAK'\n",
    "f = open(filename + '.json', 'w')\n",
    "f.write(to_save_now)\n",
    "f.close()"
   ]
  },
  {
   "attachments": {},
   "cell_type": "markdown",
   "metadata": {},
   "source": [
    "ROTATION GROUND GIMBAL MEASUREMENT"
   ]
  },
  {
   "cell_type": "code",
   "execution_count": null,
   "metadata": {},
   "outputs": [],
   "source": [
    "# 9. Request Gimbal orientation\n",
    "myHelper.myGimbal.request_current_position()\n",
    "time.sleep(0.002)\n",
    "\n",
    "# Gimbal assumed to be not moving\n",
    "yaw_now = myHelper.myGimbal.yaw\n",
    "#roll_now = myHelper.myGimbal.roll\n",
    "\n",
    "# 10. Move GROUND gimbal in 30 deg steps\n",
    "N_ang_steps = 360/30\n",
    "reset_yaw_gimbal = myHelper.az_rot_gnd_gimbal_toggle_sig_generator(int(yaw_now*10), \n",
    "                                                  131, \n",
    "                                                  int(N_ang_steps), \n",
    "                                                  meas_number=meas_number)\n",
    "\n",
    "# 11. Make the gimbal move in the opposite direction to unfold cables\n",
    "\n",
    "print('ANGLES TO UNFOLD CABLE IN GIMBAL: ', reset_yaw_gimbal)\n",
    "for i in reset_yaw_gimbal:\n",
    "    myHelper.myGimbal.setPosControl(yaw=i, pitch=131, roll=0)\n",
    "    time.sleep(1)\n",
    "\n",
    "myHelper.HelperA2GStopCom()\n",
    "#input('Stop test?')"
   ]
  },
  {
   "attachments": {},
   "cell_type": "markdown",
   "metadata": {},
   "source": [
    "POWER SPECTRUM MEASUREMENT CHECK"
   ]
  },
  {
   "cell_type": "code",
   "execution_count": null,
   "metadata": {},
   "outputs": [],
   "source": [
    "from datetime import datetime\n",
    "data = []\n",
    "n_samp = []\n",
    "meas_timestamp = []\n",
    "def iterate_until(iterable):\n",
    "    \n",
    "    \"\"\"Returns an iterator that returns all keys or values\n",
    "       of a (nested) iterable.\n",
    "       \n",
    "       Arguments:\n",
    "           - iterable: <list> or <dictionary>\n",
    "           - returned: <string> \"key\" or \"value\"\n",
    "           \n",
    "       Returns:\n",
    "           - <iterator>\n",
    "    \"\"\"\n",
    "    if isinstance(iterable, dict):\n",
    "        for key, value in iterable.items():\n",
    "            if key == 'TimeStamp':\n",
    "                    if value['@year']:\n",
    "                        meas_date = datetime(year=int(value['@year']), \n",
    "                                             month=int(value['@month']),\n",
    "                                             day=int(value['@day']),\n",
    "                                             hour=int(value['@hour']),\n",
    "                                             minute=int(value['@minute']),\n",
    "                                             second=int(value['@second']))\n",
    "                        meas_timestamp.append(datetime.timestamp(meas_date))\n",
    "            if not (isinstance(value, dict) or isinstance(value, list)):\n",
    "                if key == '@id':\n",
    "                    try:\n",
    "                        n_samp.append(int(value))\n",
    "                        data.append(iterable['@value'])\n",
    "                    except:\n",
    "                        1\n",
    "            else:\n",
    "                iterate_until(value)\n",
    "\n",
    "    elif isinstance(iterable, list):\n",
    "        #print(iterable)\n",
    "        #data.append(iterable)\n",
    "        for i in iterable:\n",
    "            iterate_until(i)\n",
    "      \n",
    "    return data, n_samp"
   ]
  },
  {
   "cell_type": "code",
   "execution_count": null,
   "metadata": {},
   "outputs": [],
   "source": [
    "from cgi import test\n",
    "import xmltodict\n",
    "import json\n",
    "import pprint\n",
    "import os\n",
    "import matplotlib.pyplot as plt\n",
    "import numpy as np\n",
    "\n",
    "root_directory = \"C://Users//jvjulian//OneDrive - Teknologian Tutkimuskeskus VTT//Documents//Measurement 1//\"\n",
    "test_folders = \"20221012\"\n",
    "\n",
    "# Each folder has 498 files (except first file of first folder)\n",
    "# Each file has around 650 points\n",
    "# These are consecutive points\n",
    "\n",
    "max_num_points_per_plot = 50000\n",
    "cnt_exceptions = 0\n",
    "for i in os.listdir(root_directory):\n",
    "    if test_folders in i:\n",
    "        this_folder = root_directory + i\n",
    "        for j in os.listdir(this_folder):\n",
    "            filename = this_folder + '//' + j\n",
    "\n",
    "            with open(filename, 'r') as fd:\n",
    "                try:\n",
    "                    doc = xmltodict.parse(fd.read(), process_namespaces=True)\n",
    "                except:\n",
    "                    cnt_exceptions = cnt_exceptions + 1\n",
    "                    print('EXCEPTION on file ', filename)\n",
    "            data, n_samp = iterate_until(doc)\n",
    "\n",
    "y = [np.nan if i=='nan' else float(i) for i in data]"
   ]
  },
  {
   "cell_type": "code",
   "execution_count": null,
   "metadata": {},
   "outputs": [
    {
     "name": "stdout",
     "output_type": "stream",
     "text": [
      "Intel(R) Active Management Technology - SOL (COM3)\n",
      "Septentrio Virtual USB COM Port 1 (COM11)\n",
      "Septentrio Virtual USB COM Port 2 (COM12)\n"
     ]
    }
   ],
   "source": [
    "from serial.tools.list_ports import comports\n",
    "\n",
    "for (this_port, desc, extra_info) in sorted(comports()):\n",
    "    print(desc)\n",
    "    \n",
    "\n"
   ]
  },
  {
   "cell_type": "code",
   "execution_count": 1,
   "metadata": {},
   "outputs": [
    {
     "name": "stdout",
     "output_type": "stream",
     "text": [
      "[DEBUG]: POSITIVE SPEEDS (LEFT), AZIMUTH, R^2 Score Linear Reg:  0.9828922068260325\n",
      "[DEBUG]: NEGATIVE SPEEDS (RIGHT), AZIMUTH, R^2 Score Linear Reg:  0.9708341771256139\n",
      "[DEBUG]: NEGATIVE SPEEDS (DOWN), ELEVATION, R^2 Score Linear Reg:  0.812453157362137\n",
      "[DEBUG]: POSITIVE SPEEDS (UP), ELEVATION, R^2 Score Linear Reg:  0.812453157362137\n",
      "[DEBUG]: Connected to IMU\n",
      "[DEBUG]: READ IMU THREAD STARTED\n"
     ]
    }
   ],
   "source": [
    "from a2gmeasurements import GimbalGremsyH16, SBUSEncoder\n",
    "\n",
    "gh16 = GimbalGremsyH16()"
   ]
  },
  {
   "cell_type": "code",
   "execution_count": 2,
   "metadata": {},
   "outputs": [
    {
     "name": "stdout",
     "output_type": "stream",
     "text": [
      "\n",
      "[DEBUG_0]: serial port connected\n",
      "\n",
      "[DEBUG]: SBUS threading started\n",
      "[DEBUG]: Defining HOME for Gremsy... This might take a second\n",
      "TIME SPENT DEFINE HOME POSITION: 0.6173861026763916\n"
     ]
    }
   ],
   "source": [
    "gh16.start_conn()"
   ]
  },
  {
   "cell_type": "code",
   "execution_count": 3,
   "metadata": {},
   "outputs": [
    {
     "data": {
      "text/plain": [
       "{'YAW': 45.875, 'PITCH': 2.625}"
      ]
     },
     "execution_count": 3,
     "metadata": {},
     "output_type": "execute_result"
    }
   ],
   "source": [
    "gh16.home_position"
   ]
  },
  {
   "cell_type": "code",
   "execution_count": 6,
   "metadata": {},
   "outputs": [],
   "source": [
    "gh16.sbus.move_gimbal(0, 10, 3)"
   ]
  },
  {
   "cell_type": "code",
   "execution_count": 7,
   "metadata": {},
   "outputs": [
    {
     "name": "stderr",
     "output_type": "stream",
     "text": [
      "Exception in thread Thread-5 (receive_imu_data):\n",
      "Traceback (most recent call last):\n",
      "  File \"c:\\Users\\manifold-uav-vtt\\anaconda3\\envs\\uavCom\\lib\\threading.py\", line 1009, in _bootstrap_inner\n",
      "    self.run()\n",
      "  File \"c:\\Users\\manifold-uav-vtt\\anaconda3\\envs\\uavCom\\lib\\threading.py\", line 946, in run\n",
      "    self._target(*self._args, **self._kwargs)\n",
      "  File \"c:\\Users\\manifold-uav-vtt\\Documents\\a2gMeasurements\\a2gmeasurements.py\", line 2362, in receive_imu_data\n",
      "    self.last_imu_reading = {'YAW': float(data[0]), 'PITCH': float(data[1]), 'ROLL': float(data[2])}\n",
      "ValueError: could not convert string to float: ''\n"
     ]
    }
   ],
   "source": [
    "gh16.stop_conn()"
   ]
  },
  {
   "cell_type": "code",
   "execution_count": null,
   "metadata": {},
   "outputs": [],
   "source": []
  }
 ],
 "metadata": {
  "kernelspec": {
   "display_name": "Python 3.10.4 ('gimbalRS2')",
   "language": "python",
   "name": "python3"
  },
  "language_info": {
   "codemirror_mode": {
    "name": "ipython",
    "version": 3
   },
   "file_extension": ".py",
   "mimetype": "text/x-python",
   "name": "python",
   "nbconvert_exporter": "python",
   "pygments_lexer": "ipython3",
   "version": "3.10.4"
  },
  "orig_nbformat": 4,
  "vscode": {
   "interpreter": {
    "hash": "f7329af74abc2ff661e31e7b365be03b5ff7d7da9999541aafc247cafecfe793"
   }
  }
 },
 "nbformat": 4,
 "nbformat_minor": 2
}

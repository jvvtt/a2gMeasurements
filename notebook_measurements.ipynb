{
 "cells": [
  {
   "cell_type": "code",
   "execution_count": null,
   "metadata": {},
   "outputs": [],
   "source": [
    "import json\n",
    "import numpy as np\n",
    "from socket import socket\n",
    "from a2gmeasurements import HelperA2GMeasurements, GimbalRS2, GpsSignaling\n",
    "import time, timeit"
   ]
  },
  {
   "cell_type": "code",
   "execution_count": null,
   "metadata": {},
   "outputs": [],
   "source": [
    "meas_number = '1_AGAIN_2_40'"
   ]
  },
  {
   "cell_type": "markdown",
   "metadata": {},
   "source": [
    "OPERATE GROUND GIMBAL WITH CMDS"
   ]
  },
  {
   "cell_type": "code",
   "execution_count": null,
   "metadata": {},
   "outputs": [],
   "source": [
    "myGimbal = GimbalRS2()\n",
    "myGimbal.start_thread_gimbal()"
   ]
  },
  {
   "cell_type": "code",
   "execution_count": null,
   "metadata": {},
   "outputs": [],
   "source": [
    "myGimbal.setPosControl(yaw=1650, roll=0, pitch=131)"
   ]
  },
  {
   "cell_type": "code",
   "execution_count": null,
   "metadata": {},
   "outputs": [],
   "source": [
    "myGimbal.stop_thread_gimbal()\n",
    "time.sleep(0.05)\n",
    "myGimbal.actual_bus.shutdown()"
   ]
  },
  {
   "cell_type": "markdown",
   "metadata": {},
   "source": [
    "MEASUREMENTS"
   ]
  },
  {
   "cell_type": "code",
   "execution_count": null,
   "metadata": {},
   "outputs": [],
   "source": [
    "host = ''\n",
    "myHelper = HelperA2GMeasurements('GROUND', host, DBG_LVL_0=False, \n",
    "                                 DBG_LVL_1=True, \n",
    "                                 IsGPS=True, \n",
    "                                 IsGimbal=True, \n",
    "                                 IsSignalGenerator=True,\n",
    "                                 F0=28.95,\n",
    "                                 L0=20)"
   ]
  },
  {
   "cell_type": "markdown",
   "metadata": {},
   "source": [
    "PEAK SIGNAL GENERATOR CALIBRATION"
   ]
  },
  {
   "cell_type": "code",
   "execution_count": null,
   "metadata": {},
   "outputs": [],
   "source": [
    "# Turn On RF output\n",
    "myHelper.inst.write('RF1\\n')\n",
    "time.sleep(2)\n",
    "# Turn Off RF output\n",
    "myHelper.inst.write('RF0\\n')\n",
    "\n",
    "to_save_now = json.dumps(myHelper.mySeptentrioGPS.NMEA_buffer[-1])\n",
    "filename = 'MEASUREMENT_' + meas_number + '_SIGNAL_GENERATOR_CALIBRATION_PEAK'\n",
    "f = open(filename + '.json', 'w')\n",
    "f.write(to_save_now)\n",
    "f.close()"
   ]
  },
  {
   "cell_type": "markdown",
   "metadata": {},
   "source": [
    "ROTATION GROUND GIMBAL MEASUREMENT"
   ]
  },
  {
   "cell_type": "code",
   "execution_count": null,
   "metadata": {},
   "outputs": [],
   "source": [
    "# 9. Request Gimbal orientation\n",
    "myHelper.myGimbal.request_current_position()\n",
    "time.sleep(0.0015)\n",
    "\n",
    "# Gimbal assumed to be not moving\n",
    "yaw_now = myHelper.myGimbal.yaw\n",
    "#roll_now = myHelper.myGimbal.roll\n",
    "\n",
    "# 10. Move GROUND gimbal in 30 deg steps\n",
    "N_ang_steps = 360/30\n",
    "reset_yaw_gimbal = myHelper.send_N_azimuth_angles(int(yaw_now*10), \n",
    "                                                  131, \n",
    "                                                  int(N_ang_steps), \n",
    "                                                  meas_number=meas_number)\n",
    "\n",
    "# 11. Make the gimbal move in the opposite direction to unfold cables\n",
    "\n",
    "print('ANGLES TO UNFOLD CABLE IN GIMBAL: ', reset_yaw_gimbal)\n",
    "for i in reset_yaw_gimbal:\n",
    "    myHelper.myGimbal.setPosControl(yaw=i, pitch=131, roll=0)\n",
    "    time.sleep(1)\n",
    "\n",
    "myHelper.HelperA2GStopCom()\n",
    "#input('Stop test?')"
   ]
  },
  {
   "cell_type": "markdown",
   "metadata": {},
   "source": [
    "ELEVATION GROUND GIMBAL TO DRONE"
   ]
  },
  {
   "cell_type": "code",
   "execution_count": null,
   "metadata": {},
   "outputs": [],
   "source": [
    "lat_gimbal = float(myHelper.mySeptentrioGPS.NMEA_buffer[-1]['Latitude'][0:2]) + float(myHelper.mySeptentrioGPS.NMEA_buffer[-1]['Latitude'][2:])/60\n",
    "lon_gimbal = float(myHelper.mySeptentrioGPS.NMEA_buffer[-1]['Longitude'][0:3]) + float(myHelper.mySeptentrioGPS.NMEA_buffer[-1]['Longitude'][3:])/60\n",
    "height_gimbal = float(myHelper.mySeptentrioGPS.NMEA_buffer[-1]['Antenna Alt above sea level (mean)'])\n",
    "\n",
    "print('This is are the coordinates for the GROUND station\\n')\n",
    "print(f'LAT:{lat_gimbal}, LON: {lon_gimbal}, HEIGHT: {height_gimbal}')\n",
    "\n",
    "# Point GROUND gimbal towards DRONE\n",
    "lat_drone = 60.15893\n",
    "lon_drone = 24.91091\n",
    "height_drone = 40\n",
    "\n",
    "lat_drone_planar, lon_drone_planar = myHelper.convert_DDMMS_to_planar(lon_drone, lat_drone, offset=None, epsg_in=4326, epsg_out=3901)\n",
    "lat_gimbal_planar, lon_gimbal_planar = myHelper.convert_DDMMS_to_planar(lon_gimbal, lat_gimbal, offset=None, epsg_in=4326, epsg_out=3901)\n",
    "        \n",
    "position_drone = np.array([lon_drone_planar, lat_drone_planar, height_drone])\n",
    "position_gimbal = np.array([lon_gimbal_planar, lat_gimbal_planar, height_gimbal])\n",
    "print(f\"[DEBUG]: POS_DRONE: {position_drone}, POS_GROUND: {position_gimbal}\")\n",
    "        \n",
    "#d_mobile_drone_3D = np.linalg.norm(position_drone - position_gimbal)\n",
    "d_mobile_drone_2D = np.linalg.norm(position_drone[:-1] - position_gimbal[:-1])\n",
    "print(f\"[DEBUG]: Azimuth distance from ground to drone station: {d_mobile_drone_2D}\")\n",
    "                \n",
    "# Elevation angle of the drone referenced to GROUND station plane. \n",
    "# Is also the roll angle to send to the gimbal\n",
    "roll_to_set = np.arctan2(height_drone - height_gimbal, d_mobile_drone_2D)\n",
    "roll_to_set = int(np.rad2deg(roll_to_set)*10)\n",
    "\n",
    "print(roll_to_set)"
   ]
  },
  {
   "cell_type": "markdown",
   "metadata": {},
   "source": [
    "POWER SPECTRUM MEASUREMENT CHECK"
   ]
  },
  {
   "cell_type": "code",
   "execution_count": null,
   "metadata": {},
   "outputs": [],
   "source": [
    "data = []\n",
    "n_samp = []\n",
    "def iterate_until(iterable):\n",
    "    \n",
    "    \"\"\"Returns an iterator that returns all keys or values\n",
    "       of a (nested) iterable.\n",
    "       \n",
    "       Arguments:\n",
    "           - iterable: <list> or <dictionary>\n",
    "           - returned: <string> \"key\" or \"value\"\n",
    "           \n",
    "       Returns:\n",
    "           - <iterator>\n",
    "    \"\"\"\n",
    "    if isinstance(iterable, dict):\n",
    "        for key, value in iterable.items():\n",
    "            \n",
    "            if not (isinstance(value, dict) or isinstance(value, list)):\n",
    "                if key == '@id':\n",
    "                    try:\n",
    "                        n_samp.append(int(value))\n",
    "                        data.append(iterable['@value'])\n",
    "                    except:\n",
    "                        1\n",
    "                if key == '@TimeStamp':\n",
    "                    1\n",
    "            else:\n",
    "                iterate_until(value)\n",
    "\n",
    "    elif isinstance(iterable, list):\n",
    "        #print(iterable)\n",
    "        #data.append(iterable)\n",
    "        for i in iterable:\n",
    "            iterate_until(i)\n",
    "      \n",
    "    return data, n_samp"
   ]
  },
  {
   "cell_type": "code",
   "execution_count": null,
   "metadata": {},
   "outputs": [],
   "source": [
    "from cgi import test\n",
    "import xmltodict\n",
    "import json\n",
    "import pprint\n",
    "import os\n",
    "import matplotlib.pyplot as plt\n",
    "import numpy as np\n",
    "\n",
    "root_directory = \"C://Users//jvjulian//OneDrive - Teknologian Tutkimuskeskus VTT//Documents//Measurement 1//\"\n",
    "test_folders = \"20221012\"\n",
    "\n",
    "# Each folder has 498 files (except first file of first folder)\n",
    "# Each file has around 650 points\n",
    "# These are consecutive points\n",
    "\n",
    "max_num_points_per_plot = 50000\n",
    "\n",
    "for i in os.listdir(root_directory):\n",
    "    if test_folders in i:\n",
    "        this_folder = root_directory + i\n",
    "        for j in os.listdir(this_folder):\n",
    "            filename = this_folder + '//' + j\n",
    "\n",
    "            with open(filename) as fd:\n",
    "                try:\n",
    "                    doc = xmltodict.parse(fd.read(), process_namespaces=True)\n",
    "                except:\n",
    "                    print('EXCEPTION on file ', filename)\n",
    "            data, n_samp = iterate_until(doc)\n",
    "\n",
    "y = [np.nan if i=='nan' else float(i) for i in data]"
   ]
  },
  {
   "cell_type": "code",
   "execution_count": null,
   "metadata": {},
   "outputs": [],
   "source": [
    "plt.figure(figsize=(20,10))\n",
    "plt.plot(y)"
   ]
  },
  {
   "cell_type": "code",
   "execution_count": null,
   "metadata": {},
   "outputs": [],
   "source": [
    "az_now = 1400\n",
    "reset_ang_buffer = []\n",
    "Naz = 12\n",
    "for i in range(Naz):\n",
    "    ang = int((i+1)*3600/Naz)\n",
    "    ang = az_now + ang\n",
    "    if ang > 1800:\n",
    "        ang = ang - 3600\n",
    "    if ang < -1800:\n",
    "        ang = ang + 3600\n",
    "    reset_ang_buffer.append(ang)\n",
    "    \n",
    "print(reset_ang_buffer)\n",
    "\n",
    "reset_buffer = reset_ang_buffer[-2::-1]\n",
    "reset_buffer.append(reset_ang_buffer[-1])\n",
    "\n",
    "print(reset_buffer)           "
   ]
  }
 ],
 "metadata": {
  "kernelspec": {
   "display_name": "Python 3.10.4 ('gimbalRS2')",
   "language": "python",
   "name": "python3"
  },
  "language_info": {
   "codemirror_mode": {
    "name": "ipython",
    "version": 3
   },
   "file_extension": ".py",
   "mimetype": "text/x-python",
   "name": "python",
   "nbconvert_exporter": "python",
   "pygments_lexer": "ipython3",
   "version": "3.10.4"
  },
  "orig_nbformat": 4,
  "vscode": {
   "interpreter": {
    "hash": "f7329af74abc2ff661e31e7b365be03b5ff7d7da9999541aafc247cafecfe793"
   }
  }
 },
 "nbformat": 4,
 "nbformat_minor": 2
}

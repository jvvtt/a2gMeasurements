{
 "cells": [
  {
   "cell_type": "code",
   "execution_count": null,
   "metadata": {},
   "outputs": [],
   "source": [
    "import json\n",
    "import numpy as np\n",
    "from socket import socket\n",
    "from a2gmeasurements import HelperA2GMeasurements, GimbalRS2, GpsSignaling\n",
    "import time, timeit"
   ]
  },
  {
   "cell_type": "code",
   "execution_count": null,
   "metadata": {},
   "outputs": [],
   "source": [
    "meas_number = '1_AGAIN_2_40'"
   ]
  },
  {
   "attachments": {},
   "cell_type": "markdown",
   "metadata": {},
   "source": [
    "OPERATE GROUND GIMBAL WITH CMDS"
   ]
  },
  {
   "cell_type": "code",
   "execution_count": null,
   "metadata": {},
   "outputs": [],
   "source": [
    "myGimbal = GimbalRS2()\n",
    "myGimbal.start_thread_gimbal()"
   ]
  },
  {
   "cell_type": "code",
   "execution_count": null,
   "metadata": {},
   "outputs": [],
   "source": [
    "myGimbal.setPosControl(yaw=1650, roll=0, pitch=131)"
   ]
  },
  {
   "cell_type": "code",
   "execution_count": null,
   "metadata": {},
   "outputs": [],
   "source": [
    "myGimbal.stop_thread_gimbal()\n",
    "time.sleep(0.05)\n",
    "myGimbal.actual_bus.shutdown()"
   ]
  },
  {
   "attachments": {},
   "cell_type": "markdown",
   "metadata": {},
   "source": [
    "OPEN MEASUREMENT HELPER CLASS"
   ]
  },
  {
   "cell_type": "code",
   "execution_count": null,
   "metadata": {},
   "outputs": [],
   "source": [
    "host = ''\n",
    "myHelper = HelperA2GMeasurements('GROUND', host, DBG_LVL_0=False, \n",
    "                                 DBG_LVL_1=True, \n",
    "                                 IsGPS=True, \n",
    "                                 IsGimbal=True, \n",
    "                                 IsSignalGenerator=True,\n",
    "                                 F0=28.95,\n",
    "                                 L0=20)"
   ]
  },
  {
   "attachments": {},
   "cell_type": "markdown",
   "metadata": {},
   "source": [
    "PEAK SIGNAL GENERATOR CALIBRATION"
   ]
  },
  {
   "cell_type": "code",
   "execution_count": null,
   "metadata": {},
   "outputs": [],
   "source": [
    "# Turn On RF output\n",
    "myHelper.inst.write('RF1\\n')\n",
    "time.sleep(2)\n",
    "# Turn Off RF output\n",
    "myHelper.inst.write('RF0\\n')\n",
    "\n",
    "to_save_now = json.dumps(myHelper.mySeptentrioGPS.NMEA_buffer[-1])\n",
    "filename = 'MEASUREMENT_' + meas_number + '_SIGNAL_GENERATOR_CALIBRATION_PEAK'\n",
    "f = open(filename + '.json', 'w')\n",
    "f.write(to_save_now)\n",
    "f.close()"
   ]
  },
  {
   "attachments": {},
   "cell_type": "markdown",
   "metadata": {},
   "source": [
    "ROTATION GROUND GIMBAL MEASUREMENT"
   ]
  },
  {
   "cell_type": "code",
   "execution_count": null,
   "metadata": {},
   "outputs": [],
   "source": [
    "# 9. Request Gimbal orientation\n",
    "myHelper.myGimbal.request_current_position()\n",
    "time.sleep(0.002)\n",
    "\n",
    "# Gimbal assumed to be not moving\n",
    "yaw_now = myHelper.myGimbal.yaw\n",
    "#roll_now = myHelper.myGimbal.roll\n",
    "\n",
    "# 10. Move GROUND gimbal in 30 deg steps\n",
    "N_ang_steps = 360/30\n",
    "reset_yaw_gimbal = myHelper.az_rot_gnd_gimbal_toggle_sig_generator(int(yaw_now*10), \n",
    "                                                  131, \n",
    "                                                  int(N_ang_steps), \n",
    "                                                  meas_number=meas_number)\n",
    "\n",
    "# 11. Make the gimbal move in the opposite direction to unfold cables\n",
    "\n",
    "print('ANGLES TO UNFOLD CABLE IN GIMBAL: ', reset_yaw_gimbal)\n",
    "for i in reset_yaw_gimbal:\n",
    "    myHelper.myGimbal.setPosControl(yaw=i, pitch=131, roll=0)\n",
    "    time.sleep(1)\n",
    "\n",
    "myHelper.HelperA2GStopCom()\n",
    "#input('Stop test?')"
   ]
  },
  {
   "attachments": {},
   "cell_type": "markdown",
   "metadata": {},
   "source": [
    "POWER SPECTRUM MEASUREMENT CHECK"
   ]
  },
  {
   "cell_type": "code",
   "execution_count": null,
   "metadata": {},
   "outputs": [],
   "source": [
    "from datetime import datetime\n",
    "data = []\n",
    "n_samp = []\n",
    "meas_timestamp = []\n",
    "def iterate_until(iterable):\n",
    "    \n",
    "    \"\"\"Returns an iterator that returns all keys or values\n",
    "       of a (nested) iterable.\n",
    "       \n",
    "       Arguments:\n",
    "           - iterable: <list> or <dictionary>\n",
    "           - returned: <string> \"key\" or \"value\"\n",
    "           \n",
    "       Returns:\n",
    "           - <iterator>\n",
    "    \"\"\"\n",
    "    if isinstance(iterable, dict):\n",
    "        for key, value in iterable.items():\n",
    "            if key == 'TimeStamp':\n",
    "                    if value['@year']:\n",
    "                        meas_date = datetime(year=int(value['@year']), \n",
    "                                             month=int(value['@month']),\n",
    "                                             day=int(value['@day']),\n",
    "                                             hour=int(value['@hour']),\n",
    "                                             minute=int(value['@minute']),\n",
    "                                             second=int(value['@second']))\n",
    "                        meas_timestamp.append(datetime.timestamp(meas_date))\n",
    "            if not (isinstance(value, dict) or isinstance(value, list)):\n",
    "                if key == '@id':\n",
    "                    try:\n",
    "                        n_samp.append(int(value))\n",
    "                        data.append(iterable['@value'])\n",
    "                    except:\n",
    "                        1\n",
    "            else:\n",
    "                iterate_until(value)\n",
    "\n",
    "    elif isinstance(iterable, list):\n",
    "        #print(iterable)\n",
    "        #data.append(iterable)\n",
    "        for i in iterable:\n",
    "            iterate_until(i)\n",
    "      \n",
    "    return data, n_samp"
   ]
  },
  {
   "cell_type": "code",
   "execution_count": null,
   "metadata": {},
   "outputs": [],
   "source": [
    "from cgi import test\n",
    "import xmltodict\n",
    "import json\n",
    "import pprint\n",
    "import os\n",
    "import matplotlib.pyplot as plt\n",
    "import numpy as np\n",
    "\n",
    "root_directory = \"C://Users//jvjulian//OneDrive - Teknologian Tutkimuskeskus VTT//Documents//Measurement 1//\"\n",
    "test_folders = \"20221012\"\n",
    "\n",
    "# Each folder has 498 files (except first file of first folder)\n",
    "# Each file has around 650 points\n",
    "# These are consecutive points\n",
    "\n",
    "max_num_points_per_plot = 50000\n",
    "cnt_exceptions = 0\n",
    "for i in os.listdir(root_directory):\n",
    "    if test_folders in i:\n",
    "        this_folder = root_directory + i\n",
    "        for j in os.listdir(this_folder):\n",
    "            filename = this_folder + '//' + j\n",
    "\n",
    "            with open(filename, 'r') as fd:\n",
    "                try:\n",
    "                    doc = xmltodict.parse(fd.read(), process_namespaces=True)\n",
    "                except:\n",
    "                    cnt_exceptions = cnt_exceptions + 1\n",
    "                    print('EXCEPTION on file ', filename)\n",
    "            data, n_samp = iterate_until(doc)\n",
    "\n",
    "y = [np.nan if i=='nan' else float(i) for i in data]"
   ]
  },
  {
   "cell_type": "code",
   "execution_count": 29,
   "metadata": {},
   "outputs": [
    {
     "name": "stdout",
     "output_type": "stream",
     "text": [
      "Intel(R) Active Management Technology - SOL (COM3)\n",
      "Septentrio Virtual USB COM Port 1 (COM11)\n",
      "Septentrio Virtual USB COM Port 2 (COM12)\n"
     ]
    }
   ],
   "source": [
    "from serial.tools.list_ports import comports\n",
    "\n",
    "for (this_port, desc, extra_info) in sorted(comports()):\n",
    "    print(desc)\n",
    "    \n",
    "\n"
   ]
  },
  {
   "cell_type": "code",
   "execution_count": null,
   "metadata": {},
   "outputs": [],
   "source": []
  }
 ],
 "metadata": {
  "kernelspec": {
   "display_name": "Python 3.10.4 ('gimbalRS2')",
   "language": "python",
   "name": "python3"
  },
  "language_info": {
   "codemirror_mode": {
    "name": "ipython",
    "version": 3
   },
   "file_extension": ".py",
   "mimetype": "text/x-python",
   "name": "python",
   "nbconvert_exporter": "python",
   "pygments_lexer": "ipython3",
   "version": "3.10.4"
  },
  "orig_nbformat": 4,
  "vscode": {
   "interpreter": {
    "hash": "f7329af74abc2ff661e31e7b365be03b5ff7d7da9999541aafc247cafecfe793"
   }
  }
 },
 "nbformat": 4,
 "nbformat_minor": 2
}

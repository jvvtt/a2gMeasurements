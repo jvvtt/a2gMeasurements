{
 "cells": [
  {
   "cell_type": "code",
   "execution_count": 1,
   "metadata": {},
   "outputs": [
    {
     "name": "stderr",
     "output_type": "stream",
     "text": [
      "c:\\Users\\jvjulian\\MyInstalledPrograms\\envs\\gimbalRS2\\lib\\site-packages\\geopandas\\_compat.py:124: UserWarning: The Shapely GEOS version (3.10.3-CAPI-1.16.1) is incompatible with the GEOS version PyGEOS was compiled with (3.10.4-CAPI-1.16.2). Conversions between both will be slow.\n",
      "  warnings.warn(\n"
     ]
    },
    {
     "name": "stdout",
     "output_type": "stream",
     "text": [
      "[DEBUG]: POSITIVE SPEEDS (LEFT), AZIMUTH, R^2 Score Linear Reg:  0.9828922068260324\n",
      "[DEBUG]: NEGATIVE SPEEDS (RIGHT), AZIMUTH, R^2 Score Linear Reg:  0.970834177125614\n",
      "[DEBUG]: NEGATIVE SPEEDS (DOWN), ELEVATION, R^2 Score Linear Reg:  0.8124531573621369\n",
      "[DEBUG]: POSITIVE SPEEDS (UP), ELEVATION, R^2 Score Linear Reg:  0.8124531573621369\n"
     ]
    }
   ],
   "source": [
    "import numpy as np\n",
    "from a2gmeasurements import GimbalGremsyH16\n",
    "\n",
    "gh16 = GimbalGremsyH16()\n",
    "\n",
    "X1 = gh16.speed_time_azimuth_table[:, 0:2]\n",
    "Y1 = np.rad2deg(gh16.speed_time_azimuth_table[:, -1])\n",
    "\n",
    "X2 = gh16.speed_time_elevation_table[:, 0:2]\n",
    "Y2 = np.rad2deg(gh16.speed_time_elevation_table[:, -1])"
   ]
  },
  {
   "cell_type": "markdown",
   "metadata": {},
   "source": [
    "Splitting the dataset"
   ]
  },
  {
   "cell_type": "code",
   "execution_count": 2,
   "metadata": {},
   "outputs": [],
   "source": [
    "from sklearn.model_selection import train_test_split\n",
    "from sklearn.preprocessing import StandardScaler\n",
    "\n",
    "X_train, X_temp, Y_train, Y_temp = train_test_split(X1, Y1, test_size=0.3, random_state=42)\n",
    "X_val, X_test, Y_val, Y_test = train_test_split(X_temp, Y_temp, test_size=0.5, random_state=42)\n",
    "\n",
    "# Create a StandardScaler instance\n",
    "scaler = StandardScaler()\n",
    "\n",
    "# Fit the scaler on the training data and transform both training and testing data\n",
    "X_train_scaled = scaler.fit_transform(X_train)\n",
    "X_val_scaled = scaler.transform(X_val)\n",
    "X_test_scaled = scaler.transform(X_test)"
   ]
  },
  {
   "cell_type": "markdown",
   "metadata": {},
   "source": [
    "Polynomial Fitting"
   ]
  },
  {
   "cell_type": "code",
   "execution_count": 3,
   "metadata": {},
   "outputs": [
    {
     "name": "stdout",
     "output_type": "stream",
     "text": [
      "Mean Squared Error (Train): 4.468206414612399\n",
      "Mean Squared Error (Validation): 11.687336702316577\n",
      "Mean Squared Error (Test): 11.458766085597468\n"
     ]
    }
   ],
   "source": [
    "from sklearn.preprocessing import PolynomialFeatures\n",
    "from sklearn.linear_model import LinearRegression\n",
    "from sklearn.metrics import mean_squared_error\n",
    "\n",
    "degree = 2\n",
    "\n",
    "# Create polynomial features\n",
    "poly = PolynomialFeatures(degree=degree)\n",
    "X_poly_train = poly.fit_transform(X_train_scaled)\n",
    "X_poly_val = poly.transform(X_val_scaled)\n",
    "X_poly_test = poly.transform(X_test_scaled)\n",
    "\n",
    "# Train the polynomial regression model\n",
    "model = LinearRegression()\n",
    "model.fit(X_poly_train, Y_train)\n",
    "\n",
    "Y_train_pred = model.predict(X_poly_train)\n",
    "mse = mean_squared_error(Y_train, Y_train_pred)\n",
    "print(f\"Mean Squared Error (Train): {mse}\")\n",
    "\n",
    "# Predict on the validation set\n",
    "Y_val_pred = model.predict(X_poly_val)\n",
    "\n",
    "# Calculate Mean Squared Error (MSE) on the validation set\n",
    "mse = mean_squared_error(Y_val, Y_val_pred)\n",
    "print(f\"Mean Squared Error (Validation): {mse}\")\n",
    "\n",
    "# Predict on the test set\n",
    "Y_test_pred = model.predict(X_poly_test)\n",
    "\n",
    "# Calculate Mean Squared Error (MSE) on the test set\n",
    "mse_test = mean_squared_error(Y_test, Y_test_pred)\n",
    "print(f\"Mean Squared Error (Test): {mse_test}\")"
   ]
  },
  {
   "cell_type": "markdown",
   "metadata": {},
   "source": [
    "Random Forest"
   ]
  },
  {
   "cell_type": "code",
   "execution_count": 37,
   "metadata": {},
   "outputs": [
    {
     "name": "stdout",
     "output_type": "stream",
     "text": [
      "Mean Squared Error (Training): 5.486971891954302\n",
      "Mean Squared Error (Validation): 17.88580995084673\n",
      "Mean Squared Error (Test): 36.2932480238418\n"
     ]
    }
   ],
   "source": [
    "from sklearn.ensemble import RandomForestRegressor\n",
    "\n",
    "# Create a Random Forest regression model\n",
    "rf_model = RandomForestRegressor(n_estimators=100, random_state=42)\n",
    "\n",
    "# Fit the model to the training data\n",
    "rf_model.fit(X_train_scaled, Y_train)\n",
    "\n",
    "# Predict on the training set\n",
    "Y_train_pred = rf_model.predict(X_train_scaled)\n",
    "\n",
    "# Calculate Mean Squared Error (MSE) on the validation set\n",
    "mse_train = mean_squared_error(Y_train, Y_train_pred)\n",
    "print(f\"Mean Squared Error (Training): {mse_train}\")\n",
    "\n",
    "# Predict on the validation set\n",
    "Y_val_pred = rf_model.predict(X_val_scaled)\n",
    "\n",
    "# Calculate Mean Squared Error (MSE) on the validation set\n",
    "mse_val = mean_squared_error(Y_val, Y_val_pred)\n",
    "print(f\"Mean Squared Error (Validation): {mse_val}\")\n",
    "\n",
    "# Predict on the test set\n",
    "Y_test_pred = rf_model.predict(X_test_scaled)\n",
    "\n",
    "# Calculate Mean Squared Error (MSE) on the test set\n",
    "mse_test = mean_squared_error(Y_test, Y_test_pred)\n",
    "print(f\"Mean Squared Error (Test): {mse_test}\")"
   ]
  },
  {
   "cell_type": "markdown",
   "metadata": {},
   "source": [
    "Gaussian Process"
   ]
  },
  {
   "cell_type": "code",
   "execution_count": 4,
   "metadata": {},
   "outputs": [
    {
     "name": "stdout",
     "output_type": "stream",
     "text": [
      "Mean Squared Error (Training): 5.747646345030014e-09\n",
      "Mean Squared Error (Validation): 7.372210776628667\n",
      "Mean Squared Error (Test): 5.192961258664729\n"
     ]
    }
   ],
   "source": [
    "from sklearn.gaussian_process import GaussianProcessRegressor\n",
    "from sklearn.gaussian_process.kernels import RBF, WhiteKernel\n",
    "from sklearn.metrics import mean_squared_error\n",
    "\n",
    "# Define the kernel for Gaussian Process Regressor\n",
    "kernel = 1.0 * RBF(length_scale=1.0, length_scale_bounds=(1e-2, 1e2)) + WhiteKernel(noise_level=1e-5, noise_level_bounds=(1e-10, 1e-3))\n",
    "\n",
    "# Create the Gaussian Process regression model\n",
    "gp_model = GaussianProcessRegressor(kernel=kernel, n_restarts_optimizer=10, random_state=42)\n",
    "\n",
    "# Fit the model to the training data\n",
    "gp_model.fit(X_train, Y_train)\n",
    "\n",
    "# Predict on the validation set\n",
    "Y_train_pred, _ = gp_model.predict(X_train, return_std=True)\n",
    "\n",
    "# Calculate Mean Squared Error (MSE) on the validation set\n",
    "mse_train = mean_squared_error(Y_train, Y_train_pred)\n",
    "print(f\"Mean Squared Error (Training): {mse_train}\")\n",
    "\n",
    "# Predict on the validation set\n",
    "Y_val_pred, _ = gp_model.predict(X_val, return_std=True)\n",
    "\n",
    "# Calculate Mean Squared Error (MSE) on the validation set\n",
    "mse_val = mean_squared_error(Y_val, Y_val_pred)\n",
    "print(f\"Mean Squared Error (Validation): {mse_val}\")\n",
    "\n",
    "# Predict on the test set\n",
    "Y_test_pred, _ = gp_model.predict(X_test, return_std=True)\n",
    "\n",
    "# Calculate Mean Squared Error (MSE) on the test set\n",
    "mse_test = mean_squared_error(Y_test, Y_test_pred)\n",
    "print(f\"Mean Squared Error (Test): {mse_test}\")"
   ]
  },
  {
   "cell_type": "code",
   "execution_count": 5,
   "metadata": {},
   "outputs": [
    {
     "name": "stdout",
     "output_type": "stream",
     "text": [
      "Hyperparameters of the Gaussian Process Regressor:\n",
      "k1: 36.2**2 * RBF(length_scale=1.78)\n",
      "k2: WhiteKernel(noise_level=0.00011)\n",
      "k1__k1: 36.2**2\n",
      "k1__k2: RBF(length_scale=1.78)\n",
      "k1__k1__constant_value: 1309.2141753770754\n",
      "k1__k1__constant_value_bounds: (1e-05, 100000.0)\n",
      "k1__k2__length_scale: 1.7772929857424073\n",
      "k1__k2__length_scale_bounds: (0.01, 100.0)\n",
      "k2__noise_level: 0.0001101246710652555\n",
      "k2__noise_level_bounds: (1e-10, 0.001)\n"
     ]
    }
   ],
   "source": [
    "# Extract the hyperparameters\n",
    "kernel_params = gp_model.kernel_.get_params()\n",
    "\n",
    "print(\"Hyperparameters of the Gaussian Process Regressor:\")\n",
    "for key, value in kernel_params.items():\n",
    "    print(f\"{key}: {value}\")"
   ]
  },
  {
   "cell_type": "code",
   "execution_count": 8,
   "metadata": {},
   "outputs": [
    {
     "name": "stdout",
     "output_type": "stream",
     "text": [
      "Total time: 0.03317594528198242\n",
      "Desired Yaw Angle: 70.0\n",
      "Corresponding Feature Values (Speed, Time): [15.66756407  8.95242118]\n"
     ]
    }
   ],
   "source": [
    "import time \n",
    "\n",
    "start_time = time.time()\n",
    "# Desired yaw angle for which you want to find speed and time\n",
    "desired_yaw = 70.0  # Replace with the desired yaw angle\n",
    "\n",
    "# Define a function to find the corresponding X values for the desired Y\n",
    "def find_feature_values_for_yaw(model, desired_yaw):\n",
    "    # Define a function to minimize (difference between predicted and desired Y)\n",
    "    def objective_function(x):\n",
    "        x = np.atleast_2d(x)\n",
    "        return np.abs(model.predict(x) - desired_yaw)\n",
    "\n",
    "    # Initialize with a guess for speed and time\n",
    "    initial_guess = np.array([2.0, 3.0])\n",
    "\n",
    "    # Use an optimization method to find the feature values that result in the desired yaw angle\n",
    "    from scipy.optimize import minimize\n",
    "    result = minimize(objective_function, initial_guess, method='Nelder-Mead')\n",
    "\n",
    "    if result.success:\n",
    "        return result.x\n",
    "    else:\n",
    "        raise Exception(\"Optimization did not converge.\")\n",
    "\n",
    "# Find the corresponding feature values (speed and time) for the desired yaw angle\n",
    "corresponding_feature_values = find_feature_values_for_yaw(gp_model, desired_yaw)\n",
    "total_time = time.time() - start_time\n",
    "\n",
    "print(f\"Total time: {total_time}\")\n",
    "print(f\"Desired Yaw Angle: {desired_yaw}\")\n",
    "print(f\"Corresponding Feature Values (Speed, Time): {corresponding_feature_values}\")"
   ]
  },
  {
   "cell_type": "markdown",
   "metadata": {},
   "source": [
    "Neural Network"
   ]
  },
  {
   "cell_type": "code",
   "execution_count": 45,
   "metadata": {},
   "outputs": [
    {
     "name": "stdout",
     "output_type": "stream",
     "text": [
      "Reloading Tuner from .\\untitled_project\\tuner0.json\n",
      "Epoch 1/100\n",
      "1/1 [==============================] - 1s 706ms/step - loss: 3246.4941 - val_loss: 4408.4385\n",
      "Epoch 2/100\n",
      "1/1 [==============================] - 0s 31ms/step - loss: 3232.0554 - val_loss: 4383.9658\n",
      "Epoch 3/100\n",
      "1/1 [==============================] - 0s 34ms/step - loss: 3213.2395 - val_loss: 4355.7725\n",
      "Epoch 4/100\n",
      "1/1 [==============================] - 0s 32ms/step - loss: 3191.5891 - val_loss: 4325.0132\n",
      "Epoch 5/100\n",
      "1/1 [==============================] - 0s 40ms/step - loss: 3167.9819 - val_loss: 4292.4648\n",
      "Epoch 6/100\n",
      "1/1 [==============================] - 0s 35ms/step - loss: 3143.0112 - val_loss: 4258.6885\n",
      "Epoch 7/100\n",
      "1/1 [==============================] - 0s 34ms/step - loss: 3117.1121 - val_loss: 4224.1016\n",
      "Epoch 8/100\n",
      "1/1 [==============================] - 0s 33ms/step - loss: 3090.5869 - val_loss: 4189.0244\n",
      "Epoch 9/100\n",
      "1/1 [==============================] - 0s 29ms/step - loss: 3063.6794 - val_loss: 4153.7588\n",
      "Epoch 10/100\n",
      "1/1 [==============================] - 0s 36ms/step - loss: 3036.5774 - val_loss: 4118.5522\n",
      "Epoch 11/100\n",
      "1/1 [==============================] - 0s 47ms/step - loss: 3009.4299 - val_loss: 4083.4453\n",
      "Epoch 12/100\n",
      "1/1 [==============================] - 0s 54ms/step - loss: 2982.3655 - val_loss: 4048.5571\n",
      "Epoch 13/100\n",
      "1/1 [==============================] - 0s 54ms/step - loss: 2955.4661 - val_loss: 4013.9778\n",
      "Epoch 14/100\n",
      "1/1 [==============================] - 0s 44ms/step - loss: 2928.7976 - val_loss: 3979.7781\n",
      "Epoch 15/100\n",
      "1/1 [==============================] - 0s 36ms/step - loss: 2902.4253 - val_loss: 3946.0112\n",
      "Epoch 16/100\n",
      "1/1 [==============================] - 0s 38ms/step - loss: 2876.3940 - val_loss: 3912.7148\n",
      "Epoch 17/100\n",
      "1/1 [==============================] - 0s 26ms/step - loss: 2850.7163 - val_loss: 3879.9141\n",
      "Epoch 18/100\n",
      "1/1 [==============================] - 0s 25ms/step - loss: 2825.4111 - val_loss: 3847.6245\n",
      "Epoch 19/100\n",
      "1/1 [==============================] - 0s 32ms/step - loss: 2800.4919 - val_loss: 3815.8542\n",
      "Epoch 20/100\n",
      "1/1 [==============================] - 0s 27ms/step - loss: 2775.9648 - val_loss: 3784.6172\n",
      "Epoch 21/100\n",
      "1/1 [==============================] - 0s 56ms/step - loss: 2751.8313 - val_loss: 3753.9595\n",
      "Epoch 22/100\n",
      "1/1 [==============================] - 0s 31ms/step - loss: 2728.0886 - val_loss: 3723.8054\n",
      "Epoch 23/100\n",
      "1/1 [==============================] - 0s 24ms/step - loss: 2704.7314 - val_loss: 3694.1453\n",
      "Epoch 24/100\n",
      "1/1 [==============================] - 0s 27ms/step - loss: 2681.7507 - val_loss: 3664.9636\n",
      "Epoch 25/100\n",
      "1/1 [==============================] - 0s 16ms/step - loss: 2659.1355 - val_loss: 3636.2441\n",
      "Epoch 26/100\n",
      "1/1 [==============================] - 0s 40ms/step - loss: 2636.8740 - val_loss: 3607.9673\n",
      "Epoch 27/100\n",
      "1/1 [==============================] - 0s 28ms/step - loss: 2614.9517 - val_loss: 3580.1140\n",
      "Epoch 28/100\n",
      "1/1 [==============================] - 0s 23ms/step - loss: 2593.3542 - val_loss: 3552.6633\n",
      "Epoch 29/100\n",
      "1/1 [==============================] - 0s 27ms/step - loss: 2572.0652 - val_loss: 3525.5933\n",
      "Epoch 30/100\n",
      "1/1 [==============================] - 0s 25ms/step - loss: 2551.2769 - val_loss: 3499.7883\n",
      "Epoch 31/100\n",
      "1/1 [==============================] - 0s 25ms/step - loss: 2531.3918 - val_loss: 3475.2937\n",
      "Epoch 32/100\n",
      "1/1 [==============================] - 0s 30ms/step - loss: 2512.6621 - val_loss: 3451.5671\n",
      "Epoch 33/100\n",
      "1/1 [==============================] - 0s 29ms/step - loss: 2494.5798 - val_loss: 3428.7168\n",
      "Epoch 34/100\n",
      "1/1 [==============================] - 0s 25ms/step - loss: 2476.7915 - val_loss: 3406.1594\n",
      "Epoch 35/100\n",
      "1/1 [==============================] - 0s 27ms/step - loss: 2459.1516 - val_loss: 3383.7688\n",
      "Epoch 36/100\n",
      "1/1 [==============================] - 0s 26ms/step - loss: 2441.6450 - val_loss: 3361.5261\n",
      "Epoch 37/100\n",
      "1/1 [==============================] - 0s 20ms/step - loss: 2424.2573 - val_loss: 3339.4126\n",
      "Epoch 38/100\n",
      "1/1 [==============================] - 0s 36ms/step - loss: 2406.9749 - val_loss: 3317.4121\n",
      "Epoch 39/100\n",
      "1/1 [==============================] - 0s 29ms/step - loss: 2389.7852 - val_loss: 3295.5071\n",
      "Epoch 40/100\n",
      "1/1 [==============================] - 0s 24ms/step - loss: 2372.6760 - val_loss: 3273.6831\n",
      "Epoch 41/100\n",
      "1/1 [==============================] - 0s 27ms/step - loss: 2355.6362 - val_loss: 3251.9263\n",
      "Epoch 42/100\n",
      "1/1 [==============================] - 0s 27ms/step - loss: 2338.6553 - val_loss: 3230.2961\n",
      "Epoch 43/100\n",
      "1/1 [==============================] - 0s 29ms/step - loss: 2321.7954 - val_loss: 3208.8997\n",
      "Epoch 44/100\n",
      "1/1 [==============================] - 0s 27ms/step - loss: 2305.0562 - val_loss: 3187.5308\n",
      "Epoch 45/100\n",
      "1/1 [==============================] - 0s 27ms/step - loss: 2288.4724 - val_loss: 3166.1790\n",
      "Epoch 46/100\n",
      "1/1 [==============================] - 0s 62ms/step - loss: 2272.0071 - val_loss: 3144.8335\n",
      "Epoch 47/100\n",
      "1/1 [==============================] - 0s 30ms/step - loss: 2255.6084 - val_loss: 3123.4917\n",
      "Epoch 48/100\n",
      "1/1 [==============================] - 0s 29ms/step - loss: 2239.2554 - val_loss: 3102.1450\n",
      "Epoch 49/100\n",
      "1/1 [==============================] - 0s 23ms/step - loss: 2222.9026 - val_loss: 3080.7820\n",
      "Epoch 50/100\n",
      "1/1 [==============================] - 0s 35ms/step - loss: 2206.5439 - val_loss: 3059.3965\n",
      "Epoch 51/100\n",
      "1/1 [==============================] - 0s 29ms/step - loss: 2190.1750 - val_loss: 3037.9814\n",
      "Epoch 52/100\n",
      "1/1 [==============================] - 0s 25ms/step - loss: 2173.7910 - val_loss: 3016.5305\n",
      "Epoch 53/100\n",
      "1/1 [==============================] - 0s 28ms/step - loss: 2157.3882 - val_loss: 2995.0391\n",
      "Epoch 54/100\n",
      "1/1 [==============================] - 0s 25ms/step - loss: 2140.9629 - val_loss: 2973.5015\n",
      "Epoch 55/100\n",
      "1/1 [==============================] - 0s 26ms/step - loss: 2124.5154 - val_loss: 2951.9131\n",
      "Epoch 56/100\n",
      "1/1 [==============================] - 0s 27ms/step - loss: 2108.0383 - val_loss: 2930.2703\n",
      "Epoch 57/100\n",
      "1/1 [==============================] - 0s 25ms/step - loss: 2091.5288 - val_loss: 2908.5691\n",
      "Epoch 58/100\n",
      "1/1 [==============================] - 0s 27ms/step - loss: 2074.9851 - val_loss: 2886.8066\n",
      "Epoch 59/100\n",
      "1/1 [==============================] - 0s 26ms/step - loss: 2058.4060 - val_loss: 2864.9792\n",
      "Epoch 60/100\n",
      "1/1 [==============================] - 0s 30ms/step - loss: 2041.7881 - val_loss: 2843.0845\n",
      "Epoch 61/100\n",
      "1/1 [==============================] - 0s 28ms/step - loss: 2025.1290 - val_loss: 2821.1204\n",
      "Epoch 62/100\n",
      "1/1 [==============================] - 0s 29ms/step - loss: 2008.4274 - val_loss: 2799.0847\n",
      "Epoch 63/100\n",
      "1/1 [==============================] - 0s 27ms/step - loss: 1991.6818 - val_loss: 2776.9753\n",
      "Epoch 64/100\n",
      "1/1 [==============================] - 0s 26ms/step - loss: 1974.8938 - val_loss: 2754.7915\n",
      "Epoch 65/100\n",
      "1/1 [==============================] - 0s 31ms/step - loss: 1958.0594 - val_loss: 2732.5315\n",
      "Epoch 66/100\n",
      "1/1 [==============================] - 0s 27ms/step - loss: 1941.1783 - val_loss: 2710.1943\n",
      "Epoch 67/100\n",
      "1/1 [==============================] - 0s 27ms/step - loss: 1924.2496 - val_loss: 2687.7798\n",
      "Epoch 68/100\n",
      "1/1 [==============================] - 0s 27ms/step - loss: 1907.2731 - val_loss: 2665.2866\n",
      "Epoch 69/100\n",
      "1/1 [==============================] - 0s 28ms/step - loss: 1890.2513 - val_loss: 2643.0830\n",
      "Epoch 70/100\n",
      "1/1 [==============================] - 0s 26ms/step - loss: 1873.1813 - val_loss: 2620.8015\n",
      "Epoch 71/100\n",
      "1/1 [==============================] - 0s 27ms/step - loss: 1856.0625 - val_loss: 2598.4421\n",
      "Epoch 72/100\n",
      "1/1 [==============================] - 0s 48ms/step - loss: 1838.9664 - val_loss: 2576.0149\n",
      "Epoch 73/100\n",
      "1/1 [==============================] - 0s 39ms/step - loss: 1821.9111 - val_loss: 2553.8745\n",
      "Epoch 74/100\n",
      "1/1 [==============================] - 0s 27ms/step - loss: 1804.8358 - val_loss: 2531.8687\n",
      "Epoch 75/100\n",
      "1/1 [==============================] - 0s 27ms/step - loss: 1787.7579 - val_loss: 2509.7976\n",
      "Epoch 76/100\n",
      "1/1 [==============================] - 0s 27ms/step - loss: 1770.6807 - val_loss: 2487.6616\n",
      "Epoch 77/100\n",
      "1/1 [==============================] - 0s 27ms/step - loss: 1753.6199 - val_loss: 2465.4666\n",
      "Epoch 78/100\n",
      "1/1 [==============================] - 0s 27ms/step - loss: 1736.5703 - val_loss: 2443.2134\n",
      "Epoch 79/100\n",
      "1/1 [==============================] - 0s 16ms/step - loss: 1719.7351 - val_loss: 2420.9211\n",
      "Epoch 80/100\n",
      "1/1 [==============================] - 0s 28ms/step - loss: 1703.0435 - val_loss: 2398.6113\n",
      "Epoch 81/100\n",
      "1/1 [==============================] - 0s 27ms/step - loss: 1686.5377 - val_loss: 2376.6089\n",
      "Epoch 82/100\n",
      "1/1 [==============================] - 0s 25ms/step - loss: 1670.0172 - val_loss: 2354.6687\n",
      "Epoch 83/100\n",
      "1/1 [==============================] - 0s 29ms/step - loss: 1653.5414 - val_loss: 2332.6870\n",
      "Epoch 84/100\n",
      "1/1 [==============================] - 0s 28ms/step - loss: 1637.1150 - val_loss: 2310.9507\n",
      "Epoch 85/100\n",
      "1/1 [==============================] - 0s 30ms/step - loss: 1620.6648 - val_loss: 2289.2749\n",
      "Epoch 86/100\n",
      "1/1 [==============================] - 0s 27ms/step - loss: 1604.2065 - val_loss: 2267.5278\n",
      "Epoch 87/100\n",
      "1/1 [==============================] - 0s 19ms/step - loss: 1587.7588 - val_loss: 2245.7173\n",
      "Epoch 88/100\n",
      "1/1 [==============================] - 0s 34ms/step - loss: 1571.2996 - val_loss: 2223.8467\n",
      "Epoch 89/100\n",
      "1/1 [==============================] - 0s 26ms/step - loss: 1554.8529 - val_loss: 2201.9219\n",
      "Epoch 90/100\n",
      "1/1 [==============================] - 0s 27ms/step - loss: 1538.3884 - val_loss: 2179.9490\n",
      "Epoch 91/100\n",
      "1/1 [==============================] - 0s 27ms/step - loss: 1521.9357 - val_loss: 2157.9309\n",
      "Epoch 92/100\n",
      "1/1 [==============================] - 0s 27ms/step - loss: 1505.4725 - val_loss: 2135.8730\n",
      "Epoch 93/100\n",
      "1/1 [==============================] - 0s 20ms/step - loss: 1488.9965 - val_loss: 2113.7808\n",
      "Epoch 94/100\n",
      "1/1 [==============================] - 0s 35ms/step - loss: 1472.5281 - val_loss: 2091.6562\n",
      "Epoch 95/100\n",
      "1/1 [==============================] - 0s 31ms/step - loss: 1456.0521 - val_loss: 2069.5046\n",
      "Epoch 96/100\n",
      "1/1 [==============================] - 0s 27ms/step - loss: 1439.5685 - val_loss: 2047.3313\n",
      "Epoch 97/100\n",
      "1/1 [==============================] - 0s 31ms/step - loss: 1423.0804 - val_loss: 2025.1406\n",
      "Epoch 98/100\n",
      "1/1 [==============================] - 0s 29ms/step - loss: 1406.5925 - val_loss: 2002.9375\n",
      "Epoch 99/100\n",
      "1/1 [==============================] - 0s 32ms/step - loss: 1390.1075 - val_loss: 1980.7258\n",
      "Epoch 100/100\n",
      "1/1 [==============================] - 0s 35ms/step - loss: 1373.6289 - val_loss: 1958.5104\n"
     ]
    },
    {
     "data": {
      "text/plain": [
       "<keras.src.callbacks.History at 0x19e982e45e0>"
      ]
     },
     "execution_count": 45,
     "metadata": {},
     "output_type": "execute_result"
    }
   ],
   "source": [
    "from sklearn.metrics import mean_squared_error\n",
    "from tensorflow import keras\n",
    "from keras_tuner import RandomSearch, GridSearch\n",
    "import keras_tuner as kt\n",
    "\n",
    "# Define a function to create a Keras model with variable hyperparameters\n",
    "def build_model(hp):\n",
    "    model = keras.Sequential()\n",
    "    model.add(keras.layers.Input(shape=X_train.shape[1]))\n",
    "    \n",
    "    # Define the number of hidden layers and neurons based on hyperparameters\n",
    "    for _ in range(hp.Int('num_hidden_layers', min_value=2, max_value=4, step=1)):\n",
    "        model.add(keras.layers.Dense(units=hp.Int('units', min_value=50, max_value=150), activation='relu'))\n",
    "    \n",
    "    model.add(keras.layers.Dense(1))  # Output layer\n",
    "    model.compile(optimizer='adam', loss='mean_squared_error')\n",
    "    return model\n",
    "\n",
    "# Initialize the KerasTuner\n",
    "tuner = RandomSearch(\n",
    "    hypermodel=build_model,\n",
    "    objective=kt.Objective('val_mean_squared_error', direction='max'),\n",
    "    max_trials=9\n",
    ")\n",
    "\n",
    "# Perform hyperparameter tuning\n",
    "tuner.search(X_train, Y_train, validation_data=(X_val, Y_val), epochs=100)\n",
    "\n",
    "# Get the best hyperparameters and model\n",
    "#best_hps = tuner.get_best_hyperparameters(num_trials=1)[0]\n",
    "#best_model = tuner.hypermodel.build(best_hps)\n",
    "\n",
    "#best_model = build_model(tuner.get_best_hyperparameters(1)[0])\n",
    "#best_model.fit(X1, Y1, epochs=50)\n",
    "\n",
    "best_model = tuner.get_best_models()[0]\n",
    "\n",
    "# Train the best model on the entire training dataset\n",
    "best_model.fit(X_train, Y_train, epochs=100, validation_data=(X_val, Y_val))"
   ]
  },
  {
   "cell_type": "code",
   "execution_count": 46,
   "metadata": {},
   "outputs": [
    {
     "name": "stdout",
     "output_type": "stream",
     "text": [
      "1/1 [==============================] - 0s 59ms/step\n",
      "Mean Squared Error (Training): 2599.3557455288774\n",
      "1/1 [==============================] - 0s 18ms/step\n",
      "Mean Squared Error (Validation): 3554.5082491659914\n",
      "1/1 [==============================] - 0s 19ms/step\n",
      "Mean Squared Error (Test): 2947.172205682591\n"
     ]
    }
   ],
   "source": [
    "# Evaluate the best model on the test set\n",
    "Y_train_pred = best_model.predict(X_train_scaled)\n",
    "mse_train = mean_squared_error(Y_train, Y_train_pred)\n",
    "print(f\"Mean Squared Error (Training): {mse_train}\")\n",
    "\n",
    "# Evaluate the best model on the test set\n",
    "Y_val_pred = best_model.predict(X_val_scaled)\n",
    "mse_val = mean_squared_error(Y_val, Y_val_pred)\n",
    "print(f\"Mean Squared Error (Validation): {mse_val}\")\n",
    "\n",
    "# Evaluate the best model on the test set\n",
    "Y_test_pred = best_model.predict(X_test_scaled)\n",
    "mse_test = mean_squared_error(Y_test, Y_test_pred)\n",
    "print(f\"Mean Squared Error (Test): {mse_test}\")"
   ]
  },
  {
   "cell_type": "code",
   "execution_count": 6,
   "metadata": {},
   "outputs": [
    {
     "data": {
      "application/vnd.plotly.v1+json": {
       "config": {
        "plotlyServerURL": "https://plot.ly"
       },
       "data": [
        {
         "marker": {
          "color": "blue",
          "size": 5,
          "symbol": "circle"
         },
         "mode": "markers",
         "name": "Data",
         "type": "scatter3d",
         "x": [
          15,
          15,
          15,
          15,
          16,
          16,
          16,
          14,
          14,
          14,
          -14,
          -14,
          -14,
          -13,
          -13,
          -13,
          -15,
          -15,
          -15,
          -16,
          -16,
          -16,
          -17,
          -17,
          -17,
          -18,
          -18,
          -18,
          -19,
          -19,
          -19,
          -20,
          -20,
          -20
         ],
         "y": [
          6,
          7,
          8,
          9,
          5,
          6,
          7,
          7,
          8,
          9,
          4,
          5,
          6,
          4,
          5,
          6,
          4,
          5,
          6,
          4,
          5,
          6,
          4,
          5,
          6,
          4,
          5,
          6,
          4,
          5,
          6,
          4,
          5,
          6
         ],
         "z": [
          24.902076785113188,
          44.254230955418684,
          55.94741012090846,
          29.587381517955944,
          34.18346089161212,
          45.697532698648416,
          29.85117879580305,
          34.55040447928094,
          83.16309764384268,
          38.6104226178462,
          70.28327404367927,
          66.18894708117537,
          60.37116173010154,
          51.16225976312445,
          66.42784518024315,
          54.533507972760965,
          34.539084061721304,
          59.681721422802816,
          87.56549920443844,
          25.41571567363886,
          36.69559346351403,
          42.07532357712343,
          57.812668565715
         ]
        },
        {
         "marker": {
          "color": "red",
          "size": 3,
          "symbol": "square"
         },
         "mode": "markers",
         "name": "Model",
         "type": "scatter3d",
         "x": [
          15,
          15,
          15,
          15,
          16,
          16,
          16,
          14,
          14,
          14,
          -14,
          -14,
          -14,
          -13,
          -13,
          -13,
          -15,
          -15,
          -15,
          -16,
          -16,
          -16,
          -17,
          -17,
          -17,
          -18,
          -18,
          -18,
          -19,
          -19,
          -19,
          -20,
          -20,
          -20
         ],
         "y": [
          6,
          7,
          8,
          9,
          5,
          6,
          7,
          7,
          8,
          9,
          4,
          5,
          6,
          4,
          5,
          6,
          4,
          5,
          6,
          4,
          5,
          6,
          4,
          5,
          6,
          4,
          5,
          6,
          4,
          5,
          6,
          4,
          5,
          6
         ],
         "z": [
          24.902073034130467,
          44.25425753767831,
          55.947210675001884,
          29.58738783967553,
          34.18347315385108,
          45.697674534608495,
          29.851181315407693,
          34.55041305995749,
          83.16309988672731,
          38.610415862243315,
          70.28331094110138,
          66.18884043051031,
          60.371173889589954,
          51.16220581697928,
          66.42783470142109,
          54.53359561713944,
          34.53907470283282,
          59.681919175112,
          87.56548084674245,
          25.41571135551385,
          36.69556176323806,
          42.07527337586805,
          57.812600752422895
         ]
        }
       ],
       "layout": {
        "scene": {
         "xaxis": {
          "title": {
           "text": "Speed"
          }
         },
         "yaxis": {
          "title": {
           "text": "Time"
          }
         },
         "zaxis": {
          "title": {
           "text": "Yaw"
          }
         }
        },
        "template": {
         "data": {
          "bar": [
           {
            "error_x": {
             "color": "#2a3f5f"
            },
            "error_y": {
             "color": "#2a3f5f"
            },
            "marker": {
             "line": {
              "color": "#E5ECF6",
              "width": 0.5
             },
             "pattern": {
              "fillmode": "overlay",
              "size": 10,
              "solidity": 0.2
             }
            },
            "type": "bar"
           }
          ],
          "barpolar": [
           {
            "marker": {
             "line": {
              "color": "#E5ECF6",
              "width": 0.5
             },
             "pattern": {
              "fillmode": "overlay",
              "size": 10,
              "solidity": 0.2
             }
            },
            "type": "barpolar"
           }
          ],
          "carpet": [
           {
            "aaxis": {
             "endlinecolor": "#2a3f5f",
             "gridcolor": "white",
             "linecolor": "white",
             "minorgridcolor": "white",
             "startlinecolor": "#2a3f5f"
            },
            "baxis": {
             "endlinecolor": "#2a3f5f",
             "gridcolor": "white",
             "linecolor": "white",
             "minorgridcolor": "white",
             "startlinecolor": "#2a3f5f"
            },
            "type": "carpet"
           }
          ],
          "choropleth": [
           {
            "colorbar": {
             "outlinewidth": 0,
             "ticks": ""
            },
            "type": "choropleth"
           }
          ],
          "contour": [
           {
            "colorbar": {
             "outlinewidth": 0,
             "ticks": ""
            },
            "colorscale": [
             [
              0,
              "#0d0887"
             ],
             [
              0.1111111111111111,
              "#46039f"
             ],
             [
              0.2222222222222222,
              "#7201a8"
             ],
             [
              0.3333333333333333,
              "#9c179e"
             ],
             [
              0.4444444444444444,
              "#bd3786"
             ],
             [
              0.5555555555555556,
              "#d8576b"
             ],
             [
              0.6666666666666666,
              "#ed7953"
             ],
             [
              0.7777777777777778,
              "#fb9f3a"
             ],
             [
              0.8888888888888888,
              "#fdca26"
             ],
             [
              1,
              "#f0f921"
             ]
            ],
            "type": "contour"
           }
          ],
          "contourcarpet": [
           {
            "colorbar": {
             "outlinewidth": 0,
             "ticks": ""
            },
            "type": "contourcarpet"
           }
          ],
          "heatmap": [
           {
            "colorbar": {
             "outlinewidth": 0,
             "ticks": ""
            },
            "colorscale": [
             [
              0,
              "#0d0887"
             ],
             [
              0.1111111111111111,
              "#46039f"
             ],
             [
              0.2222222222222222,
              "#7201a8"
             ],
             [
              0.3333333333333333,
              "#9c179e"
             ],
             [
              0.4444444444444444,
              "#bd3786"
             ],
             [
              0.5555555555555556,
              "#d8576b"
             ],
             [
              0.6666666666666666,
              "#ed7953"
             ],
             [
              0.7777777777777778,
              "#fb9f3a"
             ],
             [
              0.8888888888888888,
              "#fdca26"
             ],
             [
              1,
              "#f0f921"
             ]
            ],
            "type": "heatmap"
           }
          ],
          "heatmapgl": [
           {
            "colorbar": {
             "outlinewidth": 0,
             "ticks": ""
            },
            "colorscale": [
             [
              0,
              "#0d0887"
             ],
             [
              0.1111111111111111,
              "#46039f"
             ],
             [
              0.2222222222222222,
              "#7201a8"
             ],
             [
              0.3333333333333333,
              "#9c179e"
             ],
             [
              0.4444444444444444,
              "#bd3786"
             ],
             [
              0.5555555555555556,
              "#d8576b"
             ],
             [
              0.6666666666666666,
              "#ed7953"
             ],
             [
              0.7777777777777778,
              "#fb9f3a"
             ],
             [
              0.8888888888888888,
              "#fdca26"
             ],
             [
              1,
              "#f0f921"
             ]
            ],
            "type": "heatmapgl"
           }
          ],
          "histogram": [
           {
            "marker": {
             "pattern": {
              "fillmode": "overlay",
              "size": 10,
              "solidity": 0.2
             }
            },
            "type": "histogram"
           }
          ],
          "histogram2d": [
           {
            "colorbar": {
             "outlinewidth": 0,
             "ticks": ""
            },
            "colorscale": [
             [
              0,
              "#0d0887"
             ],
             [
              0.1111111111111111,
              "#46039f"
             ],
             [
              0.2222222222222222,
              "#7201a8"
             ],
             [
              0.3333333333333333,
              "#9c179e"
             ],
             [
              0.4444444444444444,
              "#bd3786"
             ],
             [
              0.5555555555555556,
              "#d8576b"
             ],
             [
              0.6666666666666666,
              "#ed7953"
             ],
             [
              0.7777777777777778,
              "#fb9f3a"
             ],
             [
              0.8888888888888888,
              "#fdca26"
             ],
             [
              1,
              "#f0f921"
             ]
            ],
            "type": "histogram2d"
           }
          ],
          "histogram2dcontour": [
           {
            "colorbar": {
             "outlinewidth": 0,
             "ticks": ""
            },
            "colorscale": [
             [
              0,
              "#0d0887"
             ],
             [
              0.1111111111111111,
              "#46039f"
             ],
             [
              0.2222222222222222,
              "#7201a8"
             ],
             [
              0.3333333333333333,
              "#9c179e"
             ],
             [
              0.4444444444444444,
              "#bd3786"
             ],
             [
              0.5555555555555556,
              "#d8576b"
             ],
             [
              0.6666666666666666,
              "#ed7953"
             ],
             [
              0.7777777777777778,
              "#fb9f3a"
             ],
             [
              0.8888888888888888,
              "#fdca26"
             ],
             [
              1,
              "#f0f921"
             ]
            ],
            "type": "histogram2dcontour"
           }
          ],
          "mesh3d": [
           {
            "colorbar": {
             "outlinewidth": 0,
             "ticks": ""
            },
            "type": "mesh3d"
           }
          ],
          "parcoords": [
           {
            "line": {
             "colorbar": {
              "outlinewidth": 0,
              "ticks": ""
             }
            },
            "type": "parcoords"
           }
          ],
          "pie": [
           {
            "automargin": true,
            "type": "pie"
           }
          ],
          "scatter": [
           {
            "fillpattern": {
             "fillmode": "overlay",
             "size": 10,
             "solidity": 0.2
            },
            "type": "scatter"
           }
          ],
          "scatter3d": [
           {
            "line": {
             "colorbar": {
              "outlinewidth": 0,
              "ticks": ""
             }
            },
            "marker": {
             "colorbar": {
              "outlinewidth": 0,
              "ticks": ""
             }
            },
            "type": "scatter3d"
           }
          ],
          "scattercarpet": [
           {
            "marker": {
             "colorbar": {
              "outlinewidth": 0,
              "ticks": ""
             }
            },
            "type": "scattercarpet"
           }
          ],
          "scattergeo": [
           {
            "marker": {
             "colorbar": {
              "outlinewidth": 0,
              "ticks": ""
             }
            },
            "type": "scattergeo"
           }
          ],
          "scattergl": [
           {
            "marker": {
             "colorbar": {
              "outlinewidth": 0,
              "ticks": ""
             }
            },
            "type": "scattergl"
           }
          ],
          "scattermapbox": [
           {
            "marker": {
             "colorbar": {
              "outlinewidth": 0,
              "ticks": ""
             }
            },
            "type": "scattermapbox"
           }
          ],
          "scatterpolar": [
           {
            "marker": {
             "colorbar": {
              "outlinewidth": 0,
              "ticks": ""
             }
            },
            "type": "scatterpolar"
           }
          ],
          "scatterpolargl": [
           {
            "marker": {
             "colorbar": {
              "outlinewidth": 0,
              "ticks": ""
             }
            },
            "type": "scatterpolargl"
           }
          ],
          "scatterternary": [
           {
            "marker": {
             "colorbar": {
              "outlinewidth": 0,
              "ticks": ""
             }
            },
            "type": "scatterternary"
           }
          ],
          "surface": [
           {
            "colorbar": {
             "outlinewidth": 0,
             "ticks": ""
            },
            "colorscale": [
             [
              0,
              "#0d0887"
             ],
             [
              0.1111111111111111,
              "#46039f"
             ],
             [
              0.2222222222222222,
              "#7201a8"
             ],
             [
              0.3333333333333333,
              "#9c179e"
             ],
             [
              0.4444444444444444,
              "#bd3786"
             ],
             [
              0.5555555555555556,
              "#d8576b"
             ],
             [
              0.6666666666666666,
              "#ed7953"
             ],
             [
              0.7777777777777778,
              "#fb9f3a"
             ],
             [
              0.8888888888888888,
              "#fdca26"
             ],
             [
              1,
              "#f0f921"
             ]
            ],
            "type": "surface"
           }
          ],
          "table": [
           {
            "cells": {
             "fill": {
              "color": "#EBF0F8"
             },
             "line": {
              "color": "white"
             }
            },
            "header": {
             "fill": {
              "color": "#C8D4E3"
             },
             "line": {
              "color": "white"
             }
            },
            "type": "table"
           }
          ]
         },
         "layout": {
          "annotationdefaults": {
           "arrowcolor": "#2a3f5f",
           "arrowhead": 0,
           "arrowwidth": 1
          },
          "autotypenumbers": "strict",
          "coloraxis": {
           "colorbar": {
            "outlinewidth": 0,
            "ticks": ""
           }
          },
          "colorscale": {
           "diverging": [
            [
             0,
             "#8e0152"
            ],
            [
             0.1,
             "#c51b7d"
            ],
            [
             0.2,
             "#de77ae"
            ],
            [
             0.3,
             "#f1b6da"
            ],
            [
             0.4,
             "#fde0ef"
            ],
            [
             0.5,
             "#f7f7f7"
            ],
            [
             0.6,
             "#e6f5d0"
            ],
            [
             0.7,
             "#b8e186"
            ],
            [
             0.8,
             "#7fbc41"
            ],
            [
             0.9,
             "#4d9221"
            ],
            [
             1,
             "#276419"
            ]
           ],
           "sequential": [
            [
             0,
             "#0d0887"
            ],
            [
             0.1111111111111111,
             "#46039f"
            ],
            [
             0.2222222222222222,
             "#7201a8"
            ],
            [
             0.3333333333333333,
             "#9c179e"
            ],
            [
             0.4444444444444444,
             "#bd3786"
            ],
            [
             0.5555555555555556,
             "#d8576b"
            ],
            [
             0.6666666666666666,
             "#ed7953"
            ],
            [
             0.7777777777777778,
             "#fb9f3a"
            ],
            [
             0.8888888888888888,
             "#fdca26"
            ],
            [
             1,
             "#f0f921"
            ]
           ],
           "sequentialminus": [
            [
             0,
             "#0d0887"
            ],
            [
             0.1111111111111111,
             "#46039f"
            ],
            [
             0.2222222222222222,
             "#7201a8"
            ],
            [
             0.3333333333333333,
             "#9c179e"
            ],
            [
             0.4444444444444444,
             "#bd3786"
            ],
            [
             0.5555555555555556,
             "#d8576b"
            ],
            [
             0.6666666666666666,
             "#ed7953"
            ],
            [
             0.7777777777777778,
             "#fb9f3a"
            ],
            [
             0.8888888888888888,
             "#fdca26"
            ],
            [
             1,
             "#f0f921"
            ]
           ]
          },
          "colorway": [
           "#636efa",
           "#EF553B",
           "#00cc96",
           "#ab63fa",
           "#FFA15A",
           "#19d3f3",
           "#FF6692",
           "#B6E880",
           "#FF97FF",
           "#FECB52"
          ],
          "font": {
           "color": "#2a3f5f"
          },
          "geo": {
           "bgcolor": "white",
           "lakecolor": "white",
           "landcolor": "#E5ECF6",
           "showlakes": true,
           "showland": true,
           "subunitcolor": "white"
          },
          "hoverlabel": {
           "align": "left"
          },
          "hovermode": "closest",
          "mapbox": {
           "style": "light"
          },
          "paper_bgcolor": "white",
          "plot_bgcolor": "#E5ECF6",
          "polar": {
           "angularaxis": {
            "gridcolor": "white",
            "linecolor": "white",
            "ticks": ""
           },
           "bgcolor": "#E5ECF6",
           "radialaxis": {
            "gridcolor": "white",
            "linecolor": "white",
            "ticks": ""
           }
          },
          "scene": {
           "xaxis": {
            "backgroundcolor": "#E5ECF6",
            "gridcolor": "white",
            "gridwidth": 2,
            "linecolor": "white",
            "showbackground": true,
            "ticks": "",
            "zerolinecolor": "white"
           },
           "yaxis": {
            "backgroundcolor": "#E5ECF6",
            "gridcolor": "white",
            "gridwidth": 2,
            "linecolor": "white",
            "showbackground": true,
            "ticks": "",
            "zerolinecolor": "white"
           },
           "zaxis": {
            "backgroundcolor": "#E5ECF6",
            "gridcolor": "white",
            "gridwidth": 2,
            "linecolor": "white",
            "showbackground": true,
            "ticks": "",
            "zerolinecolor": "white"
           }
          },
          "shapedefaults": {
           "line": {
            "color": "#2a3f5f"
           }
          },
          "ternary": {
           "aaxis": {
            "gridcolor": "white",
            "linecolor": "white",
            "ticks": ""
           },
           "baxis": {
            "gridcolor": "white",
            "linecolor": "white",
            "ticks": ""
           },
           "bgcolor": "#E5ECF6",
           "caxis": {
            "gridcolor": "white",
            "linecolor": "white",
            "ticks": ""
           }
          },
          "title": {
           "x": 0.05
          },
          "xaxis": {
           "automargin": true,
           "gridcolor": "white",
           "linecolor": "white",
           "ticks": "",
           "title": {
            "standoff": 15
           },
           "zerolinecolor": "white",
           "zerolinewidth": 2
          },
          "yaxis": {
           "automargin": true,
           "gridcolor": "white",
           "linecolor": "white",
           "ticks": "",
           "title": {
            "standoff": 15
           },
           "zerolinecolor": "white",
           "zerolinewidth": 2
          }
         }
        },
        "title": {
         "text": "Gremsy Gimbal Model"
        }
       }
      }
     },
     "metadata": {},
     "output_type": "display_data"
    }
   ],
   "source": [
    "import plotly.express as px\n",
    "import plotly.graph_objects as go\n",
    "\n",
    "# Create scatter traces for each dataset with distinct marker attributes\n",
    "trace1 = go.Scatter3d(x=X1[:, 0], y=X1[:, 1], z=Y_train, mode='markers', name='Data', marker=dict(size=5, symbol='circle', color='blue'))\n",
    "trace2 = go.Scatter3d(x=X1[:, 0], y=X1[:, 1], z=Y_train_pred, mode='markers', name='Model', marker=dict(size=3, symbol='square', color='red'))\n",
    "\n",
    "# Create a layout for the 3D figure\n",
    "layout = go.Layout(scene=dict(xaxis_title='Speed', yaxis_title='Time', zaxis_title='Yaw'), title='Gremsy Gimbal Model')\n",
    "\n",
    "# Create a 3D figure and add the scatter traces to it\n",
    "fig = go.Figure(data=[trace1, trace2], layout=layout)\n",
    "\n",
    "# Show the 3D figure\n",
    "fig.show()"
   ]
  },
  {
   "cell_type": "code",
   "execution_count": null,
   "metadata": {},
   "outputs": [],
   "source": []
  }
 ],
 "metadata": {
  "kernelspec": {
   "display_name": "gimbalRS2",
   "language": "python",
   "name": "python3"
  },
  "language_info": {
   "codemirror_mode": {
    "name": "ipython",
    "version": 3
   },
   "file_extension": ".py",
   "mimetype": "text/x-python",
   "name": "python",
   "nbconvert_exporter": "python",
   "pygments_lexer": "ipython3",
   "version": "3.10.4"
  },
  "orig_nbformat": 4
 },
 "nbformat": 4,
 "nbformat_minor": 2
}

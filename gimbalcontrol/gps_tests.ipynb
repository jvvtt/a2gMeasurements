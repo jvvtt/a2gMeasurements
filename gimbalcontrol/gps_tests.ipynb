{
 "cells": [
  {
   "cell_type": "code",
   "execution_count": null,
   "metadata": {},
   "outputs": [],
   "source": [
    "import socket\n",
    "\n",
    "def receive_nmea_msg_gps(HOST='192.168.3.1', PORT=28784, time='sec1'):\n",
    "    \"\"\"_summary_\n",
    "\n",
    "    Args:\n",
    "        HOST (str, optional): IP address of receiver. Defaults to '192.168.3.1'.\n",
    "        PORT (int, optional): TCP/IP PORT. Defaults to 28784.\n",
    "        time (str, optional): regularity of NMEA messages. Defaults to 'sec1'.\n",
    "    \"\"\"''\n",
    "\n",
    "    with socket.socket(socket.AF_INET, socket.SOCK_STREAM) as s:\n",
    "        \n",
    "        # Connect to the GPS \n",
    "        s.connect((HOST, PORT))\n",
    "        \n",
    "        # Receive the command line: if all good\n",
    "        data = s.recv(64)\n",
    "\n",
    "        # Establish a stream for this established connection\n",
    "        command_msg = 'sno, Stream 3, IP11, GGA, ' + time + '\\n'\n",
    "        s.sendall(command_msg.encode('utf-8'))\n",
    "        \n",
    "        \n",
    "        for i in range(5):\n",
    "            data = s.recv(64)\n",
    "            print(data)\n"
   ]
  },
  {
   "cell_type": "code",
   "execution_count": null,
   "metadata": {},
   "outputs": [],
   "source": [
    "import socket\n",
    "\n",
    "HOST = \"192.168.3.1\"  # The server's hostname or IP address\n",
    "PORT = 28784 # The port used by the server\n",
    "\n",
    "with socket.socket(socket.AF_INET, socket.SOCK_STREAM) as s:\n",
    "    s.connect((HOST, PORT))\n",
    "    #s.sendall(b\"Hello, world\")\n",
    "    data = s.recv(64)\n",
    "\n",
    "    print(data)\n",
    "\n",
    "    s.sendall('sno, Stream 3, IP11, GGA, sec1\\n'.encode('utf-8'))\n",
    "    \n",
    "    for i in range(5):\n",
    "        data = s.recv(64)\n",
    "        print(data)\n",
    "\n",
    "print(7)"
   ]
  },
  {
   "cell_type": "code",
   "execution_count": null,
   "metadata": {},
   "outputs": [],
   "source": [
    "import pynmea2\n",
    "\n",
    "nmeaobj = pynmea2.parse(data.decode('utf-8'))\n",
    "['%s: %s' % (nmeaobj.fields[i][0], nmeaobj.data[i]) \n",
    "     for i in range(len(nmeaobj.fields))]"
   ]
  }
 ],
 "metadata": {
  "kernelspec": {
   "display_name": "Python 3.10.4 ('gimbalcontrol')",
   "language": "python",
   "name": "python3"
  },
  "language_info": {
   "name": "python",
   "version": "3.10.4"
  },
  "orig_nbformat": 4,
  "vscode": {
   "interpreter": {
    "hash": "85d507c597fb442dfb72d17ee6320557264748649c6bac215a51cd362136c972"
   }
  }
 },
 "nbformat": 4,
 "nbformat_minor": 2
}
